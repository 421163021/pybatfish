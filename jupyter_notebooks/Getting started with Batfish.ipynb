{
 "cells": [
  {
   "cell_type": "markdown",
   "metadata": {},
   "source": [
    "## Getting Started with Batfish\n",
    "\n",
    "This notebook uses pybatfish, a Python-based SDK for Batfish, to analyze a sample network. It shows how to submit your configurations and other network data for analysis and how to extract information from its vendor neutral data model. \n",
    "\n",
    "### Initializing a Network and Snapshot\n",
    "\n",
    "A *network* is a logical group of routers and links. It can be your entire network or a subset of it. A *snapshot* is a collection of information (configuration files, routing data, etc…) that represent the network state at a point in time. Snapshots can contain the actual configuration of network devices or candidate configurations.\n",
    "\n",
    "**NB: Make sure that the Batfish service is running on localhost before proceeding further**"
   ]
  },
  {
   "cell_type": "code",
   "execution_count": null,
   "metadata": {},
   "outputs": [],
   "source": [
    "# Import pybatfish and other needed packages\n",
    "%run startup.py"
   ]
  },
  {
   "cell_type": "code",
   "execution_count": null,
   "metadata": {
    "scrolled": false
   },
   "outputs": [],
   "source": [
    "# Assign a friendly name to your network and snapshot\n",
    "NETWORK_NAME = \"example_network\"\n",
    "SNAPSHOT_NAME = \"example_snapshot\"\n",
    "\n",
    "# Update SNAPSHOT_PATH to point to a directory containing your network snapshots.\n",
    "# Example snapshots are available in the test_rigs folder of the Batfish repository.\n",
    "# See [here](https://github.com/batfish/batfish/wiki/Packaging-testrigs-for-analysis) for instructions on packaging your own data for analysis.\n",
    "SNAPSHOT_PATH = \"../../batfish/test_rigs/example\"\n",
    "\n",
    "# Now create the network and initialize the snapshot\n",
    "bf_set_network(NETWORK_NAME)\n",
    "bf_init_snapshot(SNAPSHOT_PATH, name=SNAPSHOT_NAME, overwrite=True)"
   ]
  },
  {
   "cell_type": "markdown",
   "metadata": {},
   "source": [
    "### Extracting Information\n",
    "Batfish creates a comprehensive vendor neutral device and network model from which information such as list of devices, interface state, VRFs etc. can be extracted and validated. This notebook focuses on extractions. See other notebooks on how to validate extracted information. \n",
    "\n",
    "*Questions* are the mechanism by which you extract information from the Batfish service about your network and snapshot(s)."
   ]
  },
  {
   "cell_type": "code",
   "execution_count": null,
   "metadata": {},
   "outputs": [],
   "source": [
    "# Load questions from Batfish\n",
    "load_questions()"
   ]
  },
  {
   "cell_type": "code",
   "execution_count": null,
   "metadata": {},
   "outputs": [],
   "source": [
    "# To see available questions, you can use\n",
    "list_questions()\n",
    "\n",
    "# You can also use tab-completion on the Batfish question module - bfq. -> press TAB key,\n",
    "# uncomment and try on the following line\n",
    "# bfq.\n",
    "\n",
    "# You can find out usage for a question by calling .help() on it; note the `()` before .help()\n",
    "bfq.nodeProperties().help()"
   ]
  },
  {
   "cell_type": "markdown",
   "metadata": {},
   "source": [
    "### Getting status of parsed files\n",
    "\n",
    "Batfish may ignore certain lines in the configuration. To retrieve the parsing status of snapshot files, use the fileParseStatus question"
   ]
  },
  {
   "cell_type": "code",
   "execution_count": null,
   "metadata": {},
   "outputs": [],
   "source": [
    "parse_status = bfq.fileParseStatus().answer().frame()"
   ]
  },
  {
   "cell_type": "markdown",
   "metadata": {},
   "source": [
    "`answer()` runs the question and returns the answer in a JSON format. \n",
    "\n",
    "`frame()` wraps the answer as [pandas dataframe](https://pandas.pydata.org/pandas-docs/stable/generated/pandas.DataFrame.html).\n",
    "\n",
    "Additional post-processing can be done on this data, like filtering for values in one or multiple columns, reducing the number of columns, etc. using pandas. This post-processing can be the basis of lightweight validation; Batfish also includes a range of questions for deeper validation (as discussed in other notebooks).\n",
    "\n",
    "Information on pandas-based processing can be found in the [pandas tutorial on filtering](http://nbviewer.jupyter.org/github/jvns/pandas-cookbook/blob/v0.2/cookbook/Chapter%203%20-%20Which%20borough%20has%20the%20most%20noise%20complaints%20%28or%2C%20more%20selecting%20data%29.ipynb)."
   ]
  },
  {
   "cell_type": "code",
   "execution_count": null,
   "metadata": {},
   "outputs": [],
   "source": [
    "# An example: use a filter on the returned dataframe to see which files failed to parse completely\n",
    "parse_status[parse_status['Status'] != 'PASSED']  # change '!=' to '==' to get the files which passed"
   ]
  },
  {
   "cell_type": "code",
   "execution_count": null,
   "metadata": {},
   "outputs": [],
   "source": [
    "# View details if some of the files were not parsed completely\n",
    "parse_warning = bfq.parseWarning().answer().frame()\n",
    "\n",
    "parse_warning"
   ]
  },
  {
   "cell_type": "markdown",
   "metadata": {},
   "source": [
    "### Inspecting referential integrity of configuration structures\n",
    "Network configuratons define and reference named structures like route maps, access control lists (ACLs), prefix lists, etc. Two common indicators of buggy configurations include references to structures that are not defined anywhere or defined structures that are not referenced anywhere. Batfish makes it easy to flag such instances because it understand the underlying semantics of configuration.\n",
    "\n",
    "##### TODO: cells for undefined references and unused structures"
   ]
  },
  {
   "cell_type": "markdown",
   "metadata": {},
   "source": [
    "### Extracting properties of network entities\n",
    "Entities in the network refer to things like nodes, interfaces, routing processes, and VRFs. Batfish makes it trivial to extract configured properties of such entities in a vendor neutral manner. \n",
    "\n",
    "##### Node properties\n",
    "The nodeProperties question extract information on nodes in the snapshot."
   ]
  },
  {
   "cell_type": "code",
   "execution_count": null,
   "metadata": {},
   "outputs": [],
   "source": [
    "# Extract the properties of all nodes whose names match the regular expression '.*border.*'\n",
    "node_properties = bfq.nodeProperties(nodeRegex=\".*border.*\").answer().frame()"
   ]
  },
  {
   "cell_type": "code",
   "execution_count": null,
   "metadata": {},
   "outputs": [],
   "source": [
    "# View what columns (properties) are present in the answer\n",
    "node_properties.columns"
   ]
  },
  {
   "cell_type": "code",
   "execution_count": null,
   "metadata": {},
   "outputs": [],
   "source": [
    "# To extract only a subset of properties, use the propertySpec parameter\n",
    "node_properties_trunc = bfq.nodeProperties(nodeRegex=\".*border.*\", propertySpec=\"domain-name|ntp-servers|interfaces\").answer().frame()\n",
    "\n",
    "node_properties_trunc"
   ]
  },
  {
   "cell_type": "markdown",
   "metadata": {},
   "source": [
    "An alternative (client-side) way to restrict the list of columns displayed is to use pandas-based column filtering ([pandas tutorial](http://nbviewer.jupyter.org/github/jvns/pandas-cookbook/blob/v0.2/cookbook/Chapter%202%20-%20Selecting%20data%20%26%20finding%20the%20most%20common%20complaint%20type.ipynb))."
   ]
  },
  {
   "cell_type": "code",
   "execution_count": null,
   "metadata": {},
   "outputs": [],
   "source": [
    "# Let's remove the interfaces column from our result\n",
    "node_properties_trunc = node_properties_trunc[[\"node\", \"domain-name\", \"ntp-servers\"]]\n",
    "\n",
    "node_properties_trunc"
   ]
  },
  {
   "cell_type": "markdown",
   "metadata": {},
   "source": [
    "You can add additional filters to restrict entries based on values of columns."
   ]
  },
  {
   "cell_type": "code",
   "execution_count": null,
   "metadata": {},
   "outputs": [],
   "source": [
    "# View only nodes with **23.23.23.23** as one of the configured ntp-servers\n",
    "node_properties_trunc[node_properties_trunc['ntp-servers'].apply(lambda x:'23.23.23.23' in x)]"
   ]
  },
  {
   "cell_type": "markdown",
   "metadata": {},
   "source": [
    "#### Interface properties\n",
    "To retrieve information about interfaces present and the properties of them, use the **interfaceProperties** question"
   ]
  },
  {
   "cell_type": "code",
   "execution_count": null,
   "metadata": {},
   "outputs": [],
   "source": [
    "interface_properties = bfq.interfaceProperties(nodeRegex=\".*border.*\", propertySpec=\"interface-type|bandwidth|vrf|primary-address\").answer().frame()"
   ]
  },
  {
   "cell_type": "markdown",
   "metadata": {},
   "source": [
    "If you wanted to just find interfaces with the primary ip address in <b>10.12.0.0/16</b>, you can filter the results as shown below.\n",
    "\n",
    "**na=False** is required in order to ignore interfaces without any configured IP addresses, such as ethernet switchports.\n"
   ]
  },
  {
   "cell_type": "code",
   "execution_count": null,
   "metadata": {},
   "outputs": [],
   "source": [
    "interface_properties[interface_properties['primary-address'].str.match(\"10.12\", na=False)]"
   ]
  },
  {
   "cell_type": "markdown",
   "metadata": {},
   "source": [
    "Similar questions extract properties of other entities (e.g., bgpProperties() extracts properties of BGP processes)."
   ]
  },
  {
   "cell_type": "markdown",
   "metadata": {},
   "source": [
    "### Exploring Routing and Forwarding Tables (RIBs and FIBs)\n",
    "Batfish can compute routing and forwarding tables (aka dataplane) of the network from snapshot data itself. This data plane can be examined to understand the routing and forwarding behavior of the network. "
   ]
  },
  {
   "cell_type": "code",
   "execution_count": null,
   "metadata": {},
   "outputs": [],
   "source": [
    "# Fetch the routing table of all VRFs on all nodes in the snapshot\n",
    "routes_df = bfq.routes().answer().frame()"
   ]
  },
  {
   "cell_type": "markdown",
   "metadata": {},
   "source": [
    "(For a large network, the first time you run a question that needs the dataplane, fetching the answer can take a few minutes. Subsequent questions are quick as the generated dataplane is saved by Batfish.)\n",
    "\n",
    "As used above, the routes() question can generate a lot of results. You may restrict the output by using filter in the question. To restrict the results to **border** routers, use **nodeRegex = \"\\.\\*border\\.\\*\"** as parameters for the routes question. \n",
    "\n",
    "As for properties, you can also just filter the results on the client side using pandas. For example, if you wanted to see all the routes on all the nodes/VRFs for the network **90.90.90.0/24** with an **Admin Distance of 0**\", you can filter using multiple conditions in [pandas](http://pandas.pydata.org/pandas-docs/version/0.15/indexing.html#boolean-indexing)"
   ]
  },
  {
   "cell_type": "code",
   "execution_count": null,
   "metadata": {},
   "outputs": [],
   "source": [
    "routes_df[(routes_df['Network'] == \"90.90.90.0/24\") & (routes_df[\"AdminDistance\"] == 0)]"
   ]
  },
  {
   "cell_type": "markdown",
   "metadata": {},
   "source": [
    "***\n",
    "That's it for now! Feel free to explore further by adding cells and running other questions, or play with the other notebooks in the repository."
   ]
  }
 ],
 "metadata": {
  "hide_input": false,
  "kernelspec": {
   "display_name": "Python 3",
   "language": "python",
   "name": "python3"
  },
  "language_info": {
   "codemirror_mode": {
    "name": "ipython",
    "version": 3
   },
   "file_extension": ".py",
   "mimetype": "text/x-python",
   "name": "python",
   "nbconvert_exporter": "python",
   "pygments_lexer": "ipython3",
   "version": "3.6.4"
  }
 },
 "nbformat": 4,
 "nbformat_minor": 2
}
