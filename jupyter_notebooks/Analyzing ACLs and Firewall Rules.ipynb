{
 "cells": [
  {
   "cell_type": "markdown",
   "metadata": {
    "slideshow": {
     "slide_type": "slide"
    }
   },
   "source": [
    "# Analyzing ACLs and firewall rules with Batfish"
   ]
  },
  {
   "cell_type": "markdown",
   "metadata": {
    "slideshow": {
     "slide_type": "notes"
    }
   },
   "source": [
    "Network and security engineers are responsible for ensuring that the ACLs and firewall rules in their networks are permitting and denying traffic as intended. This task usually requires manual checking or loading rulesets onto a lab device in order to test behavior on example packets of interest. These methods are not only time consuming but also error-prone. \n",
    "\n",
    "Batfish makes it easy to deeply analyze ACLs and firewall rules, which we generally call *filters.* It can show what a filter will do with a given packet, right down to the line of the filter that matches the packet; it can provide guarantees on how a filter treats a large space of packets; and it can sanity check a filter to ensure that every line in it matches at least some packets.\n",
    "\n",
    "In this notebook, we demonstrate these capabilities. In our [\"Provably Safe ACL and Firewall Changes\" notebook](Provably%20Safe%20ACL%20and%20Firewall%20Changes.ipynb), we show how Batfish can guarantee that filter changes are safe.\n",
    "\n",
    "Check out a video demo of this notebook [here](https://youtu.be/KixQYEDh33s).\n",
    "\n",
    "![Analytics](https://ga-beacon.appspot.com/UA-100596389-3/open-source/pybatfish/jupyter_notebooks/analyzing-acls-and-firewall-rules?pixel&useReferer) "
   ]
  },
  {
   "cell_type": "markdown",
   "metadata": {
    "slideshow": {
     "slide_type": "slide"
    }
   },
   "source": [
    "## Initialization"
   ]
  },
  {
   "cell_type": "markdown",
   "metadata": {
    "slideshow": {
     "slide_type": "notes"
    }
   },
   "source": [
    "We use an example network with two devices, a router with ACLs and a firewall.  The device configurations can be seen [here](networks/example-filters/current/configs). "
   ]
  },
  {
   "cell_type": "code",
   "execution_count": 1,
   "metadata": {
    "slideshow": {
     "slide_type": "fragment"
    }
   },
   "outputs": [
    {
     "name": "stderr",
     "output_type": "stream",
     "text": [
      "Could not load question structurereferenceanalyzer : '<' not supported between instances of 'str' and 'bool'\n"
     ]
    },
    {
     "data": {
      "text/plain": [
       "'current'"
      ]
     },
     "execution_count": 1,
     "metadata": {},
     "output_type": "execute_result"
    }
   ],
   "source": [
    "# Import packages and load questions\n",
    "%run startup.py\n",
    "\n",
    "# Initialize a network and a snapshot\n",
    "bf_set_network(\"network-example-filters\")\n",
    "\n",
    "SNAPSHOT_NAME = \"current\"\n",
    "SNAPSHOT_PATH = \"networks/example-filters/current\"\n",
    "bf_init_snapshot(SNAPSHOT_PATH, name=SNAPSHOT_NAME, overwrite=True)"
   ]
  },
  {
   "cell_type": "markdown",
   "metadata": {
    "slideshow": {
     "slide_type": "slide"
    }
   },
   "source": [
    "## `testFilters`: Testing how filters treat a flow"
   ]
  },
  {
   "cell_type": "markdown",
   "metadata": {
    "slideshow": {
     "slide_type": "notes"
    }
   },
   "source": [
    "The `testFilters` question shows what filters do with a particular flow and *why*. It takes as input the details of the flow and a set of filters to test. The answer provides a detailed view of how the flow is treated by each filter in the set.\n",
    "\n",
    "Flows are specified using source and destination IP addresses and, optionally, other fields such as IP protocols, ports, and TCP flags. You may also specify the ingress interface which is factored in when the behavior of a filter depends on it. See [documentation](https://pybatfish.readthedocs.io/en/latest/questions.html#pybatfish.question.bfq.testFilters) for details. The question will fill in any unspecified fields with reasonable defaults.\n",
    "\n",
    "The set of filters to examine can be narrowed using various criteria, including regexes for node and filter names. Left unspecified, `testFilters` will give results for every filter in the network."
   ]
  },
  {
   "cell_type": "markdown",
   "metadata": {
    "slideshow": {
     "slide_type": "slide"
    }
   },
   "source": [
    "### Example 1: Test if hosts in a subnet can reach the DNS server"
   ]
  },
  {
   "cell_type": "markdown",
   "metadata": {
    "slideshow": {
     "slide_type": "notes"
    }
   },
   "source": [
    "Suppose we wanted to test if our ACL **acl_in** in router **rtr-with-acl** allows hosts in a subnet to reach our DNS server. This check is easily expressed. If the subnet is 10.10.10.0/24 and the DNS server is at the IP address 218.8.104.58, then the query will be as shown below, where we have picked 10.10.10.1 as a representative source IP for the subnet."
   ]
  },
  {
   "cell_type": "code",
   "execution_count": 2,
   "metadata": {
    "slideshow": {
     "slide_type": "fragment"
    }
   },
   "outputs": [
    {
     "data": {
      "text/html": [
       "<style  type=\"text/css\" >\n",
       "    #T_pybfstylerow0_col0 {\n",
       "            text-align:  left;\n",
       "            vertical-align:  top;\n",
       "        }    #T_pybfstylerow0_col1 {\n",
       "            text-align:  left;\n",
       "            vertical-align:  top;\n",
       "        }    #T_pybfstylerow0_col2 {\n",
       "            text-align:  left;\n",
       "            vertical-align:  top;\n",
       "        }    #T_pybfstylerow0_col3 {\n",
       "            text-align:  left;\n",
       "            vertical-align:  top;\n",
       "        }    #T_pybfstylerow0_col4 {\n",
       "            text-align:  left;\n",
       "            vertical-align:  top;\n",
       "        }    #T_pybfstylerow0_col5 {\n",
       "            text-align:  left;\n",
       "            vertical-align:  top;\n",
       "        }</style>  \n",
       "<table id=\"T_pybfstyle\" > \n",
       "<thead>    <tr> \n",
       "        <th class=\"blank level0\" ></th> \n",
       "        <th class=\"col_heading level0 col0\" >Node</th> \n",
       "        <th class=\"col_heading level0 col1\" >Filter_Name</th> \n",
       "        <th class=\"col_heading level0 col2\" >Flow</th> \n",
       "        <th class=\"col_heading level0 col3\" >Action</th> \n",
       "        <th class=\"col_heading level0 col4\" >Line_Content</th> \n",
       "        <th class=\"col_heading level0 col5\" >Trace</th> \n",
       "    </tr></thead> \n",
       "<tbody>    <tr> \n",
       "        <th id=\"T_pybfstylelevel0_row0\" class=\"row_heading level0 row0\" >0</th> \n",
       "        <td id=\"T_pybfstylerow0_col0\" class=\"data row0 col0\" >&#x27;rtr-with-acl&#x27;</td> \n",
       "        <td id=\"T_pybfstylerow0_col1\" class=\"data row0 col1\" >&#x27;acl_in&#x27;</td> \n",
       "        <td id=\"T_pybfstylerow0_col2\" class=\"data row0 col2\" >Start Location: rtr-with-acl<br>Src IP: 10.10.10.1<br>Src Port: 49152<br>Dst IP: 218.8.104.58<br>Dst Port: 53<br>IP Protocol: UDP</td> \n",
       "        <td id=\"T_pybfstylerow0_col3\" class=\"data row0 col3\" >&#x27;PERMIT&#x27;</td> \n",
       "        <td id=\"T_pybfstylerow0_col4\" class=\"data row0 col4\" >&#x27;660 permit udp 10.10.10.0/24 218.8.104.58/32 eq domain&#x27;</td> \n",
       "        <td id=\"T_pybfstylerow0_col5\" class=\"data row0 col5\" >AclTrace(events=[AclTraceEvent(class_name=&#x27;org.batfish.datamodel.acl.PermittedByIpAccessListLine&#x27;, description=&#x27;Flow permitted by extended ipv4 access-list named acl_in, index 32: 660 permit udp 10.10.10.0/24 218.8.104.58/32 eq domain&#x27;, lineDescription=&#x27;660 permit udp 10.10.10.0/24 218.8.104.58/32 eq domain&#x27;)])</td> \n",
       "    </tr></tbody> \n",
       "</table> "
      ],
      "text/plain": [
       "           Node Filter_Name  \\\n",
       "0  rtr-with-acl  acl_in       \n",
       "\n",
       "                                                                    Flow  \\\n",
       "0  start=rtr-with-acl [10.10.10.1:49152->218.8.104.58:53 UDP length=512]   \n",
       "\n",
       "   Action                                            Line_Content  \\\n",
       "0  PERMIT  660 permit udp 10.10.10.0/24 218.8.104.58/32 eq domain   \n",
       "\n",
       "                                                                                                                        Trace  \n",
       "0  Flow permitted by extended ipv4 access-list named acl_in, index 32: 660 permit udp 10.10.10.0/24 218.8.104.58/32 eq domain  "
      ]
     },
     "metadata": {},
     "output_type": "display_data"
    }
   ],
   "source": [
    "# Check if a representative host can reach the DNS server\n",
    "dns_flow = HeaderConstraints(srcIps=\"10.10.10.1\",\n",
    "                             dstIps=\"218.8.104.58\",\n",
    "                             applications=[\"dns\"])\n",
    "answer = bfq.testFilters(headers=dns_flow,\n",
    "                         nodes=\"rtr-with-acl\",\n",
    "                         filters=\"acl_in\",\n",
    "                ).answer()\n",
    "show(answer.frame())"
   ]
  },
  {
   "cell_type": "markdown",
   "metadata": {
    "slideshow": {
     "slide_type": "notes"
    }
   },
   "source": [
    "The result above shows that the flow we tested is indeed permitted by the filter **acl_in** (in `Filter_Name` column) on device **rtr-with-acl** (in `Node` column). The `Flow` column shows the exact flow tested, including the default values chosen by Batfish for unspecified parameters. The remaining columns show how the flow is treated by the filter. The `Action` column shows the final outcome, `Line_Content` shows which line(s) led to that action, and `Trace` shows all the lines the packet matched. In this case, the trace is not deep, but it can be quite deep for filters that reference other structures such as policy maps and object groups."
   ]
  },
  {
   "cell_type": "markdown",
   "metadata": {
    "slideshow": {
     "slide_type": "slide"
    }
   },
   "source": [
    "### Example 2: Test that HTTP flows cannot go from one zone to another"
   ]
  },
  {
   "cell_type": "markdown",
   "metadata": {
    "slideshow": {
     "slide_type": "notes"
    }
   },
   "source": [
    "Now suppose we want to test that our **firewall** blocks HTTP flows that cross the boundary from one zone to another. A query like the one below can help us do that. It is testing how output filters on interfaces in the second zone treat a packet with the specified header fields when it enters the firewall through interfaces in the first zone.\n",
    "\n",
    "The arguments to `startLocation` and `filters` below use Batfish specifiers that enable easy specification of various concepts. `enter(firewall[Ethernet0/0/2])` specifies that the packet we want to test enters 'firewall' via 'Ethernet0/0/2' (the interface in the first zone) and `outFilterOf(Ethernet0/0/3)` specifies that the filter we want to test is the out filter on 'Ethernet0/0/3' (the interface in the second zone)."
   ]
  },
  {
   "cell_type": "code",
   "execution_count": 3,
   "metadata": {
    "slideshow": {
     "slide_type": "fragment"
    }
   },
   "outputs": [
    {
     "data": {
      "text/html": [
       "<style  type=\"text/css\" >\n",
       "    #T_pybfstylerow0_col0 {\n",
       "            text-align:  left;\n",
       "            vertical-align:  top;\n",
       "        }    #T_pybfstylerow0_col1 {\n",
       "            text-align:  left;\n",
       "            vertical-align:  top;\n",
       "        }    #T_pybfstylerow0_col2 {\n",
       "            text-align:  left;\n",
       "            vertical-align:  top;\n",
       "        }    #T_pybfstylerow0_col3 {\n",
       "            text-align:  left;\n",
       "            vertical-align:  top;\n",
       "        }    #T_pybfstylerow0_col4 {\n",
       "            text-align:  left;\n",
       "            vertical-align:  top;\n",
       "        }    #T_pybfstylerow0_col5 {\n",
       "            text-align:  left;\n",
       "            vertical-align:  top;\n",
       "        }</style>  \n",
       "<table id=\"T_pybfstyle\" > \n",
       "<thead>    <tr> \n",
       "        <th class=\"blank level0\" ></th> \n",
       "        <th class=\"col_heading level0 col0\" >Node</th> \n",
       "        <th class=\"col_heading level0 col1\" >Filter_Name</th> \n",
       "        <th class=\"col_heading level0 col2\" >Flow</th> \n",
       "        <th class=\"col_heading level0 col3\" >Action</th> \n",
       "        <th class=\"col_heading level0 col4\" >Line_Content</th> \n",
       "        <th class=\"col_heading level0 col5\" >Trace</th> \n",
       "    </tr></thead> \n",
       "<tbody>    <tr> \n",
       "        <th id=\"T_pybfstylelevel0_row0\" class=\"row_heading level0 row0\" >0</th> \n",
       "        <td id=\"T_pybfstylerow0_col0\" class=\"data row0 col0\" >&#x27;firewall&#x27;</td> \n",
       "        <td id=\"T_pybfstylerow0_col1\" class=\"data row0 col1\" >&#x27;~ZONE_OUTGOING_ACL~zone-z3~&#x27;</td> \n",
       "        <td id=\"T_pybfstylerow0_col2\" class=\"data row0 col2\" >Start Location: firewall interface=GigabitEthernet0/0/2<br>Src IP: 10.114.64.1<br>Src Port: 49152<br>Dst IP: 10.114.60.10<br>Dst Port: 80<br>IP Protocol: TCP</td> \n",
       "        <td id=\"T_pybfstylerow0_col3\" class=\"data row0 col3\" >&#x27;DENY&#x27;</td> \n",
       "        <td id=\"T_pybfstylerow0_col4\" class=\"data row0 col4\" >&#x27;no-match&#x27;</td> \n",
       "        <td id=\"T_pybfstylerow0_col5\" class=\"data row0 col5\" >AclTrace(events=[AclTraceEvent(class_name=&#x27;org.batfish.datamodel.acl.DefaultDeniedByIpAccessList&#x27;, description=&quot;Flow did not match ACL named &#x27;~ZONE_OUTGOING_ACL~zone-z3~&#x27;&quot;, lineDescription=None)])</td> \n",
       "    </tr></tbody> \n",
       "</table> "
      ],
      "text/plain": [
       "       Node                  Filter_Name  \\\n",
       "0  firewall  ~ZONE_OUTGOING_ACL~zone-z3~   \n",
       "\n",
       "                                                                                                Flow  \\\n",
       "0  start=firewall interface=GigabitEthernet0/0/2 [10.114.64.1:49152->10.114.60.10:80 TCP length=512]   \n",
       "\n",
       "  Action Line_Content  \\\n",
       "0  DENY   no-match      \n",
       "\n",
       "                                                        Trace  \n",
       "0  Flow did not match ACL named '~ZONE_OUTGOING_ACL~zone-z3~'  "
      ]
     },
     "metadata": {},
     "output_type": "display_data"
    }
   ],
   "source": [
    "# Test if a host can reach the DNS server\n",
    "http_flow = HeaderConstraints(srcIps=\"10.114.64.1\",\n",
    "                              dstIps=\"10.114.60.10\",\n",
    "                              applications=[\"http\"])\n",
    "answer = bfq.testFilters(headers=http_flow,\n",
    "                         startLocation=\"enter(firewall[GigabitEthernet0/0/2])\",\n",
    "                         filters=\"outFilterOf(GigabitEthernet0/0/3)\").answer()\n",
    "show(answer.frame())"
   ]
  },
  {
   "cell_type": "markdown",
   "metadata": {
    "slideshow": {
     "slide_type": "notes"
    }
   },
   "source": [
    "As we can see the HTTP flow is indeed denied, and the columns in the table show the reason for that denial."
   ]
  },
  {
   "cell_type": "markdown",
   "metadata": {
    "slideshow": {
     "slide_type": "slide"
    }
   },
   "source": [
    "## `searchFilters`: Verifying how filters treat a (very large) space of flows"
   ]
  },
  {
   "cell_type": "markdown",
   "metadata": {
    "slideshow": {
     "slide_type": "notes"
    }
   },
   "source": [
    "While `testFilters` reasons about individual flows, the `searchFilters` question provides comprehensive guarantees by reasoning about (potentially very large) spaces of flows. The space of flows is specified using source and destination prefixes (where the default prefix 0.0.0.0/0 denotes all 4,294,967,296 possibilities), a list of protocols, a range of ports, and so on. Given a flow space and a match condition, which can be 'permit', 'deny', or 'matchLine <linenum>', `searchFilters` returns flows within this space that match the condition. If no flow is returned, it is guaranteed that no flow in the entire space satisfies the condition. "
   ]
  },
  {
   "cell_type": "markdown",
   "metadata": {
    "slideshow": {
     "slide_type": "slide"
    }
   },
   "source": [
    "### Example 1: Verify that *all* hosts in a subnet can reach the DNS server"
   ]
  },
  {
   "cell_type": "markdown",
   "metadata": {
    "slideshow": {
     "slide_type": "notes"
    }
   },
   "source": [
    "Earlier we checked that a subnet could reach the DNS server using `testFilters` with a representative source IP address. Now, let's use `searchfilter` to ascertain that the entire subnet can reach the server.\n",
    "\n",
    "The query below is asking if there is *any* flow from 10.10.10.0/24 to 218.8.104.58 that is *denied* by the filter **acl_in**. That is, we're asking for violations of the desired policy. An empty result means the policy is correctly implemented. Any flow returned by the query demonstrates that the policy is not correctly implemented."
   ]
  },
  {
   "cell_type": "code",
   "execution_count": 46,
   "metadata": {
    "slideshow": {
     "slide_type": "fragment"
    }
   },
   "outputs": [
    {
     "data": {
      "text/html": [
       "<style  type=\"text/css\" >\n",
       "    #T_pybfstylerow0_col0 {\n",
       "            text-align:  left;\n",
       "            vertical-align:  top;\n",
       "        }    #T_pybfstylerow0_col1 {\n",
       "            text-align:  left;\n",
       "            vertical-align:  top;\n",
       "        }    #T_pybfstylerow0_col2 {\n",
       "            text-align:  left;\n",
       "            vertical-align:  top;\n",
       "        }    #T_pybfstylerow0_col3 {\n",
       "            text-align:  left;\n",
       "            vertical-align:  top;\n",
       "        }    #T_pybfstylerow0_col4 {\n",
       "            text-align:  left;\n",
       "            vertical-align:  top;\n",
       "        }    #T_pybfstylerow0_col5 {\n",
       "            text-align:  left;\n",
       "            vertical-align:  top;\n",
       "        }    #T_pybfstylerow0_col6 {\n",
       "            text-align:  left;\n",
       "            vertical-align:  top;\n",
       "        }</style>  \n",
       "<table id=\"T_pybfstyle\" > \n",
       "<thead>    <tr> \n",
       "        <th class=\"blank level0\" ></th> \n",
       "        <th class=\"col_heading level0 col0\" >Node</th> \n",
       "        <th class=\"col_heading level0 col1\" >Filter_Name</th> \n",
       "        <th class=\"col_heading level0 col2\" >Header_Space</th> \n",
       "        <th class=\"col_heading level0 col3\" >Flow</th> \n",
       "        <th class=\"col_heading level0 col4\" >Action</th> \n",
       "        <th class=\"col_heading level0 col5\" >Line_Content</th> \n",
       "        <th class=\"col_heading level0 col6\" >Trace</th> \n",
       "    </tr></thead> \n",
       "<tbody>    <tr> \n",
       "        <th id=\"T_pybfstylelevel0_row0\" class=\"row_heading level0 row0\" >0</th> \n",
       "        <td id=\"T_pybfstylerow0_col0\" class=\"data row0 col0\" >&#x27;rtr-with-acl&#x27;</td> \n",
       "        <td id=\"T_pybfstylerow0_col1\" class=\"data row0 col1\" >&#x27;acl_in&#x27;</td> \n",
       "        <td id=\"T_pybfstylerow0_col2\" class=\"data row0 col2\" >&#x27;{&quot;class&quot;:&quot;org.batfish.datamodel.acl.OrMatchExpr&quot;,&quot;disjuncts&quot;:[{&quot;class&quot;:&quot;org.batfish.datamodel.acl.AndMatchExpr&quot;,&quot;conjuncts&quot;:[{&quot;class&quot;:&quot;org.batfish.datamodel.acl.MatchHeaderSpace&quot;,&quot;headerSpace&quot;:{&quot;dstIps&quot;:{&quot;class&quot;:&quot;org.batfish.datamodel.IpWildcardIpSpace&quot;,&quot;ipWildcard&quot;:&quot;0.0.0.0/0&quot;},&quot;icmpTypes&quot;:[&quot;0-0&quot;],&quot;ipProtocols&quot;:[&quot;ICMP&quot;],&quot;negate&quot;:false,&quot;srcIps&quot;:{&quot;class&quot;:&quot;org.batfish.datamodel.IpWildcardIpSpace&quot;,&quot;ipWildcard&quot;:&quot;0.0.0.0/0&quot;}}},{&quot;class&quot;:&quot;org.batfish.datamodel.acl.NotMatchExpr&quot;,&quot;operand&quot;:{&quot;class&quot;:&quot;org.batfish.datamodel.acl.MatchHeaderSpace&quot;,&quot;headerSpace&quot;:{&quot;dstIps&quot;:{&quot;class&quot;:&quot;org.batfish.datamodel.IpWildcardIpSpace&quot;,&quot;ipWildcard&quot;:&quot;0.0.0.0/0&quot;},&quot;negate&quot;:false,&quot;srcIps&quot;:{&quot;class&quot;:&quot;org.batfish.datamodel.IpWildcardIpSpace&quot;,&quot;ipWildcard&quot;:&quot;2.80.3.219&quot;}}}},{&quot;class&quot;:&quot;org.batfish.datamodel.acl.NotMatchExpr&quot;,&quot;operand&quot;:{&quot;class&quot;:&quot;org.batfish.datamodel.acl.MatchHeaderSpace&quot;,&quot;headerSpace&quot;:{&quot;dstIps&quot;:{&quot;class&quot;:&quot;org.batfish.datamodel.IpWildcardIpSpace&quot;,&quot;ipWildcard&quot;:&quot;0.0.0.0/0&quot;},&quot;negate&quot;:false,&quot;srcIps&quot;:{&quot;class&quot;:&quot;org.batfish.datamodel.IpWildcardIpSpace&quot;,&quot;ipWildcard&quot;:&quot;8.89.120.0/22&quot;}}}},{&quot;class&quot;:&quot;org.batfish.datamodel.acl.NotMatchExpr&quot;,&quot;operand&quot;:{&quot;class&quot;:&quot;org.batfish.datamodel.acl.MatchHeaderSpace&quot;,&quot;headerSpace&quot;:{&quot;dstIps&quot;:{&quot;class&quot;:&quot;org.batfish.datamodel.IpWildcardIpSpace&quot;,&quot;ipWildcard&quot;:&quot;0.0.0.0/0&quot;},&quot;negate&quot;:false,&quot;srcIps&quot;:{&quot;class&quot;:&quot;org.batfish.datamodel.IpWildcardIpSpace&quot;,&quot;ipWildcard&quot;:&quot;10.64.90.249&quot;}}}},{&quot;class&quot;:&quot;org.batfish.datamodel.acl.NotMatchExpr&quot;,&quot;operand&quot;:{&quot;class&quot;:&quot;org.batfish.datamodel.acl.MatchHeaderSpace&quot;,&quot;headerSpace&quot;:{&quot;dstIps&quot;:{&quot;class&quot;:&quot;org.batfish.datamodel.IpWildcardIpSpace&quot;,&quot;ipWildcard&quot;:&quot;0.0.0.0/0&quot;},&quot;negate&quot;:false,&quot;srcIps&quot;:{&quot;class&quot;:&quot;org.batfish.datamodel.IpWildcardIpSpace&quot;,&quot;ipWildcard&quot;:&quot;11.36.192.0/19&quot;}}}},{&quot;class&quot;:&quot;org.batfish.datamodel.acl.NotMatchExpr&quot;,&quot;operand&quot;:{&quot;class&quot;:&quot;org.batfish.datamodel.acl.MatchHeaderSpace&quot;,&quot;headerSpace&quot;:{&quot;dstIps&quot;:{&quot;class&quot;:&quot;org.batfish.datamodel.IpWildcardIpSpace&quot;,&quot;ipWildcard&quot;:&quot;0.0.0.0/0&quot;},&quot;negate&quot;:false,&quot;srcIps&quot;:{&quot;class&quot;:&quot;org.batfish.datamodel.IpWildcardIpSpace&quot;,&quot;ipWildcard&quot;:&quot;11.125.64.0/19&quot;}}}},{&quot;class&quot;:&quot;org.batfish.datamodel.acl.NotMatchExpr&quot;,&quot;operand&quot;:{&quot;class&quot;:&quot;org.batfish.datamodel.acl.MatchHeaderSpace&quot;,&quot;headerSpace&quot;:{&quot;dstIps&quot;:{&quot;class&quot;:&quot;org.batfish.datamodel.IpWildcardIpSpace&quot;,&quot;ipWildcard&quot;:&quot;0.0.0.0/0&quot;},&quot;negate&quot;:false,&quot;srcIps&quot;:{&quot;class&quot;:&quot;org.batfish.datamodel.IpWildcardIpSpace&quot;,&quot;ipWildcard&quot;:&quot;27.212.145.150&quot;}}}},{&quot;class&quot;:&quot;org.batfish.datamodel.acl.NotMatchExpr&quot;,&quot;operand&quot;:{&quot;class&quot;:&quot;org.batfish.datamodel.acl.MatchHeaderSpace&quot;,&quot;headerSpace&quot;:{&quot;dstIps&quot;:{&quot;class&quot;:&quot;org.batfish.datamodel.IpWildcardIpSpace&quot;,&quot;ipWildcard&quot;:&quot;0.0.0.0/0&quot;},&quot;negate&quot;:false,&quot;srcIps&quot;:{&quot;class&quot;:&quot;org.batfish.datamodel.IpWildcardIpSpace&quot;,&quot;ipWildcard&quot;:&quot;28.69.250.136&quot;}}}},{&quot;class&quot;:&quot;org.batfish.datamodel.acl.NotMatchExpr&quot;,&quot;operand&quot;:{&quot;class&quot;:&quot;org.batfish.datamodel.acl.MatchHeaderSpace&quot;,&quot;headerSpace&quot;:{&quot;dstIps&quot;:{&quot;class&quot;:&quot;org.batfish.datamodel.IpWildcardIpSpace&quot;,&quot;ipWildcard&quot;:&quot;0.0.0.0/0&quot;},&quot;negate&quot;:false,&quot;srcIps&quot;:{&quot;class&quot;:&quot;org.batfish.datamodel.IpWildcardIpSpace&quot;,&quot;ipWildcard&quot;:&quot;29.228.179.210&quot;}}}},{&quot;class&quot;:&quot;org.batfish.datamodel.acl.NotMatchExpr&quot;,&quot;operand&quot;:{&quot;class&quot;:&quot;org.batfish.datamodel.acl.MatchHeaderSpace&quot;,&quot;headerSpace&quot;:{&quot;dstIps&quot;:{&quot;class&quot;:&quot;org.batfish.datamodel.IpWildcardIpSpace&quot;,&quot;ipWildcard&quot;:&quot;0.0.0.0/0&quot;},&quot;negate&quot;:false,&quot;srcIps&quot;:{&quot;class&quot;:&quot;org.batfish.datamodel.IpWildcardIpSpace&quot;,&quot;ipWildcard&quot;:&quot;54.0.0.0/8&quot;}}}},{&quot;class&quot;:&quot;org.batfish.datamodel.acl.NotMatchExpr&quot;,&quot;operand&quot;:{&quot;class&quot;:&quot;org.batfish.datamodel.acl.MatchHeaderSpace&quot;,&quot;headerSpace&quot;:{&quot;dstIps&quot;:{&quot;class&quot;:&quot;org.batfish.datamodel.IpWildcardIpSpace&quot;,&quot;ipWildcard&quot;:&quot;0.0.0.0/0&quot;},&quot;negate&quot;:false,&quot;srcIps&quot;:{&quot;class&quot;:&quot;org.batfish.datamodel.IpWildcardIpSpace&quot;,&quot;ipWildcard&quot;:&quot;118.0.0.0/8&quot;}}}},{&quot;class&quot;:&quot;org.batfish.datamodel.acl.NotMatchExpr&quot;,&quot;operand&quot;:{&quot;class&quot;:&quot;org.batfish.datamodel.acl.MatchHeaderSpace&quot;,&quot;headerSpace&quot;:{&quot;dstIps&quot;:{&quot;class&quot;:&quot;org.batfish.datamodel.IpWildcardIpSpace&quot;,&quot;ipWildcard&quot;:&quot;0.0.0.0/0&quot;},&quot;negate&quot;:false,&quot;srcIps&quot;:{&quot;class&quot;:&quot;org.batfish.datamodel.IpWildcardIpSpace&quot;,&quot;ipWildcard&quot;:&quot;131.159.53.215&quot;}}}},{&quot;class&quot;:&quot;org.batfish.datamodel.acl.NotMatchExpr&quot;,&quot;operand&quot;:{&quot;class&quot;:&quot;org.batfish.datamodel.acl.MatchHeaderSpace&quot;,&quot;headerSpace&quot;:{&quot;dstIps&quot;:{&quot;class&quot;:&quot;org.batfish.datamodel.IpWildcardIpSpace&quot;,&quot;ipWildcard&quot;:&quot;0.0.0.0/0&quot;},&quot;negate&quot;:false,&quot;srcIps&quot;:{&quot;class&quot;:&quot;org.batfish.datamodel.IpWildcardIpSpace&quot;,&quot;ipWildcard&quot;:&quot;144.49.45.40&quot;}}}},{&quot;class&quot;:&quot;org.batfish.datamodel.acl.NotMatchExpr&quot;,&quot;operand&quot;:{&quot;class&quot;:&quot;org.batfish.datamodel.acl.MatchHeaderSpace&quot;,&quot;headerSpace&quot;:{&quot;dstIps&quot;:{&quot;class&quot;:&quot;org.batfish.datamodel.IpWildcardIpSpace&quot;,&quot;ipWildcard&quot;:&quot;0.0.0.0/0&quot;},&quot;negate&quot;:false,&quot;srcIps&quot;:{&quot;class&quot;:&quot;org.batfish.datamodel.IpWildcardIpSpace&quot;,&quot;ipWildcard&quot;:&quot;163.157.0.0/16&quot;}}}},{&quot;class&quot;:&quot;org.batfish.datamodel.acl.NotMatchExpr&quot;,&quot;operand&quot;:{&quot;class&quot;:&quot;org.batfish.datamodel.acl.MatchHeaderSpace&quot;,&quot;headerSpace&quot;:{&quot;dstIps&quot;:{&quot;class&quot;:&quot;org.batfish.datamodel.IpWildcardIpSpace&quot;,&quot;ipWildcard&quot;:&quot;0.0.0.0/0&quot;},&quot;negate&quot;:false,&quot;srcIps&quot;:{&quot;class&quot;:&quot;org.batfish.datamodel.IpWildcardIpSpace&quot;,&quot;ipWildcard&quot;:&quot;163.255.18.63&quot;}}}},{&quot;class&quot;:&quot;org.batfish.datamodel.acl.NotMatchExpr&quot;,&quot;operand&quot;:{&quot;class&quot;:&quot;org.batfish.datamodel.acl.MatchHeaderSpace&quot;,&quot;headerSpace&quot;:{&quot;dstIps&quot;:{&quot;class&quot;:&quot;org.batfish.datamodel.IpWildcardIpSpace&quot;,&quot;ipWildcard&quot;:&quot;0.0.0.0/0&quot;},&quot;negate&quot;:false,&quot;srcIps&quot;:{&quot;class&quot;:&quot;org.batfish.datamodel.IpWildcardIpSpace&quot;,&quot;ipWildcard&quot;:&quot;166.144.0.0/12&quot;}}}},{&quot;class&quot;:&quot;org.batfish.datamodel.acl.NotMatchExpr&quot;,&quot;operand&quot;:{&quot;class&quot;:&quot;org.batfish.datamodel.acl.MatchHeaderSpace&quot;,&quot;headerSpace&quot;:{&quot;dstIps&quot;:{&quot;class&quot;:&quot;org.batfish.datamodel.IpWildcardIpSpace&quot;,&quot;ipWildcard&quot;:&quot;0.0.0.0/0&quot;},&quot;negate&quot;:false,&quot;srcIps&quot;:{&quot;class&quot;:&quot;org.batfish.datamodel.IpWildcardIpSpace&quot;,&quot;ipWildcard&quot;:&quot;194.181.135.214&quot;}}}},{&quot;class&quot;:&quot;org.batfish.datamodel.acl.NotMatchExpr&quot;,&quot;operand&quot;:{&quot;class&quot;:&quot;org.batfish.datamodel.acl.MatchHeaderSpace&quot;,&quot;headerSpace&quot;:{&quot;dstIps&quot;:{&quot;class&quot;:&quot;org.batfish.datamodel.IpWildcardIpSpace&quot;,&quot;ipWildcard&quot;:&quot;0.0.0.0/0&quot;},&quot;negate&quot;:false,&quot;srcIps&quot;:{&quot;class&quot;:&quot;org.batfish.datamodel.IpWildcardIpSpace&quot;,&quot;ipWildcard&quot;:&quot;196.64.84.239&quot;}}}},{&quot;class&quot;:&quot;org.batfish.datamodel.acl.NotMatchExpr&quot;,&quot;operand&quot;:{&quot;class&quot;:&quot;org.batfish.datamodel.acl.MatchHeaderSpace&quot;,&quot;headerSpace&quot;:{&quot;dstIps&quot;:{&quot;class&quot;:&quot;org.batfish.datamodel.IpWildcardIpSpace&quot;,&quot;ipWildcard&quot;:&quot;0.0.0.0/0&quot;},&quot;negate&quot;:false,&quot;srcIps&quot;:{&quot;class&quot;:&quot;org.batfish.datamodel.IpWildcardIpSpace&quot;,&quot;ipWildcard&quot;:&quot;198.120.0.0/16&quot;}}}},{&quot;class&quot;:&quot;org.batfish.datamodel.acl.NotMatchExpr&quot;,&quot;operand&quot;:{&quot;class&quot;:&quot;org.batfish.datamodel.acl.MatchHeaderSpace&quot;,&quot;headerSpace&quot;:{&quot;dstIps&quot;:{&quot;class&quot;:&quot;org.batfish.datamodel.IpWildcardIpSpace&quot;,&quot;ipWildcard&quot;:&quot;0.0.0.0/0&quot;},&quot;negate&quot;:false,&quot;srcIps&quot;:{&quot;class&quot;:&quot;org.batfish.datamodel.IpWildcardIpSpace&quot;,&quot;ipWildcard&quot;:&quot;198.170.50.0/24&quot;}}}},{&quot;class&quot;:&quot;org.batfish.datamodel.acl.NotMatchExpr&quot;,&quot;operand&quot;:{&quot;class&quot;:&quot;org.batfish.datamodel.acl.MatchHeaderSpace&quot;,&quot;headerSpace&quot;:{&quot;dstIps&quot;:{&quot;class&quot;:&quot;org.batfish.datamodel.IpWildcardIpSpace&quot;,&quot;ipWildcard&quot;:&quot;0.0.0.0/0&quot;},&quot;negate&quot;:false,&quot;srcIps&quot;:{&quot;class&quot;:&quot;org.batfish.datamodel.IpWildcardIpSpace&quot;,&quot;ipWildcard&quot;:&quot;200.45.87.238&quot;}}}},{&quot;class&quot;:&quot;org.batfish.datamodel.acl.NotMatchExpr&quot;,&quot;operand&quot;:{&quot;class&quot;:&quot;org.batfish.datamodel.acl.MatchHeaderSpace&quot;,&quot;headerSpace&quot;:{&quot;dstIps&quot;:{&quot;class&quot;:&quot;org.batfish.datamodel.IpWildcardIpSpace&quot;,&quot;ipWildcard&quot;:&quot;0.0.0.0/0&quot;},&quot;negate&quot;:false,&quot;srcIps&quot;:{&quot;class&quot;:&quot;org.batfish.datamodel.IpWildcardIpSpace&quot;,&quot;ipWildcard&quot;:&quot;202.45.130.141&quot;}}}},{&quot;class&quot;:&quot;org.batfish.datamodel.acl.NotMatchExpr&quot;,&quot;operand&quot;:{&quot;class&quot;:&quot;org.batfish.datamodel.acl.MatchHeaderSpace&quot;,&quot;headerSpace&quot;:{&quot;dstIps&quot;:{&quot;class&quot;:&quot;org.batfish.datamodel.IpWildcardIpSpace&quot;,&quot;ipWildcard&quot;:&quot;0.0.0.0/0&quot;},&quot;negate&quot;:false,&quot;srcIps&quot;:{&quot;class&quot;:&quot;org.batfish.datamodel.IpWildcardIpSpace&quot;,&quot;ipWildcard&quot;:&quot;207.70.46.217&quot;}}}},{&quot;class&quot;:&quot;org.batfish.datamodel.acl.NotMatchExpr&quot;,&quot;operand&quot;:{&quot;class&quot;:&quot;org.batfish.datamodel.acl.MatchHeaderSpace&quot;,&quot;headerSpace&quot;:{&quot;dstIps&quot;:{&quot;class&quot;:&quot;org.batfish.datamodel.IpWildcardIpSpace&quot;,&quot;ipWildcard&quot;:&quot;0.0.0.0/0&quot;},&quot;negate&quot;:false,&quot;srcIps&quot;:{&quot;class&quot;:&quot;org.batfish.datamodel.IpWildcardIpSpace&quot;,&quot;ipWildcard&quot;:&quot;212.26.132.18&quot;}}}},{&quot;class&quot;:&quot;org.batfish.datamodel.acl.NotMatchExpr&quot;,&quot;operand&quot;:{&quot;class&quot;:&quot;org.batfish.datamodel.acl.MatchHeaderSpace&quot;,&quot;headerSpace&quot;:{&quot;dstIps&quot;:{&quot;class&quot;:&quot;org.batfish.datamodel.IpWildcardIpSpace&quot;,&quot;ipWildcard&quot;:&quot;0.0.0.0/0&quot;},&quot;negate&quot;:false,&quot;srcIps&quot;:{&quot;class&quot;:&quot;org.batfish.datamodel.IpWildcardIpSpace&quot;,&quot;ipWildcard&quot;:&quot;214.220.213.107&quot;}}}},{&quot;class&quot;:&quot;org.batfish.datamodel.acl.NotMatchExpr&quot;,&quot;operand&quot;:{&quot;class&quot;:&quot;org.batfish.datamodel.acl.MatchHeaderSpace&quot;,&quot;headerSpace&quot;:{&quot;dstIps&quot;:{&quot;class&quot;:&quot;org.batfish.datamodel.IpWildcardIpSpace&quot;,&quot;ipWildcard&quot;:&quot;0.0.0.0/0&quot;},&quot;negate&quot;:false,&quot;srcIps&quot;:{&quot;class&quot;:&quot;org.batfish.datamodel.IpWildcardIpSpace&quot;,&quot;ipWildcard&quot;:&quot;218.8.104.0/25&quot;}}}},{&quot;class&quot;:&quot;org.batfish.datamodel.acl.NotMatchExpr&quot;,&quot;operand&quot;:{&quot;class&quot;:&quot;org.batfish.datamodel.acl.MatchHeaderSpace&quot;,&quot;headerSpace&quot;:{&quot;dstIps&quot;:{&quot;class&quot;:&quot;org.batfish.datamodel.IpWildcardIpSpace&quot;,&quot;ipWildcard&quot;:&quot;0.0.0.0/0&quot;},&quot;negate&quot;:false,&quot;srcIps&quot;:{&quot;class&quot;:&quot;org.batfish.datamodel.IpWildcardIpSpace&quot;,&quot;ipWildcard&quot;:&quot;218.8.106.128/25&quot;}}}},{&quot;class&quot;:&quot;org.batfish.datamodel.acl.NotMatchExpr&quot;,&quot;operand&quot;:{&quot;class&quot;:&quot;org.batfish.datamodel.acl.MatchHeaderSpace&quot;,&quot;headerSpace&quot;:{&quot;dstIps&quot;:{&quot;class&quot;:&quot;org.batfish.datamodel.IpWildcardIpSpace&quot;,&quot;ipWildcard&quot;:&quot;0.0.0.0/0&quot;},&quot;negate&quot;:false,&quot;srcIps&quot;:{&quot;class&quot;:&quot;org.batfish.datamodel.IpWildcardIpSpace&quot;,&quot;ipWildcard&quot;:&quot;218.8.107.0/25&quot;}}}},{&quot;class&quot;:&quot;org.batfish.datamodel.acl.NotMatchExpr&quot;,&quot;operand&quot;:{&quot;class&quot;:&quot;org.batfish.datamodel.acl.MatchHeaderSpace&quot;,&quot;headerSpace&quot;:{&quot;dstIps&quot;:{&quot;class&quot;:&quot;org.batfish.datamodel.IpWildcardIpSpace&quot;,&quot;ipWildcard&quot;:&quot;0.0.0.0/0&quot;},&quot;negate&quot;:false,&quot;srcIps&quot;:{&quot;class&quot;:&quot;org.batfish.datamodel.IpWildcardIpSpace&quot;,&quot;ipWildcard&quot;:&quot;218.66.51.0/24&quot;}}}},{&quot;class&quot;:&quot;org.batfish.datamodel.acl.NotMatchExpr&quot;,&quot;operand&quot;:{&quot;class&quot;:&quot;org.batfish.datamodel.acl.MatchHeaderSpace&quot;,&quot;headerSpace&quot;:{&quot;dstIps&quot;:{&quot;class&quot;:&quot;org.batfish.datamodel.IpWildcardIpSpace&quot;,&quot;ipWildcard&quot;:&quot;0.0.0.0/0&quot;},&quot;negate&quot;:false,&quot;srcIps&quot;:{&quot;class&quot;:&quot;org.batfish.datamodel.IpWildcardIpSpace&quot;,&quot;ipWildcard&quot;:&quot;218.66.57.0/24&quot;}}}},{&quot;class&quot;:&quot;org.batfish.datamodel.acl.NotMatchExpr&quot;,&quot;operand&quot;:{&quot;class&quot;:&quot;org.batfish.datamodel.acl.MatchHeaderSpace&quot;,&quot;headerSpace&quot;:{&quot;dstIps&quot;:{&quot;class&quot;:&quot;org.batfish.datamodel.IpWildcardIpSpace&quot;,&quot;ipWildcard&quot;:&quot;0.0.0.0/0&quot;},&quot;negate&quot;:false,&quot;srcIps&quot;:{&quot;class&quot;:&quot;org.batfish.datamodel.IpWildcardIpSpace&quot;,&quot;ipWildcard&quot;:&quot;218.67.46.0/23&quot;}}}},{&quot;class&quot;:&quot;org.batfish.datamodel.acl.NotMatchExpr&quot;,&quot;operand&quot;:{&quot;class&quot;:&quot;org.batfish.datamodel.acl.MatchHeaderSpace&quot;,&quot;headerSpace&quot;:{&quot;dstIps&quot;:{&quot;class&quot;:&quot;org.batfish.datamodel.IpWildcardIpSpace&quot;,&quot;ipWildcard&quot;:&quot;0.0.0.0/0&quot;},&quot;negate&quot;:false,&quot;srcIps&quot;:{&quot;class&quot;:&quot;org.batfish.datamodel.IpWildcardIpSpace&quot;,&quot;ipWildcard&quot;:&quot;218.67.96.0/22&quot;}}}},{&quot;class&quot;:&quot;org.batfish.datamodel.acl.NotMatchExpr&quot;,&quot;operand&quot;:{&quot;class&quot;:&quot;org.batfish.datamodel.acl.MatchHeaderSpace&quot;,&quot;headerSpace&quot;:{&quot;dstIps&quot;:{&quot;class&quot;:&quot;org.batfish.datamodel.IpWildcardIpSpace&quot;,&quot;ipWildcard&quot;:&quot;0.0.0.0/0&quot;},&quot;negate&quot;:false,&quot;srcIps&quot;:{&quot;class&quot;:&quot;org.batfish.datamodel.IpWildcardIpSpace&quot;,&quot;ipWildcard&quot;:&quot;218.67.213.0/24&quot;}}}},{&quot;class&quot;:&quot;org.batfish.datamodel.acl.NotMatchExpr&quot;,&quot;operand&quot;:{&quot;class&quot;:&quot;org.batfish.datamodel.acl.MatchHeaderSpace&quot;,&quot;headerSpace&quot;:{&quot;dstIps&quot;:{&quot;class&quot;:&quot;org.batfish.datamodel.IpWildcardIpSpace&quot;,&quot;ipWildcard&quot;:&quot;0.0.0.0/0&quot;},&quot;negate&quot;:false,&quot;srcIps&quot;:{&quot;class&quot;:&quot;org.batfish.datamodel.IpWildcardIpSpace&quot;,&quot;ipWildcard&quot;:&quot;218.111.16.132&quot;}}}},{&quot;class&quot;:&quot;org.batfish.datamodel.acl.NotMatchExpr&quot;,&quot;operand&quot;:{&quot;class&quot;:&quot;org.batfish.datamodel.acl.MatchHeaderSpace&quot;,&quot;headerSpace&quot;:{&quot;dstIps&quot;:{&quot;class&quot;:&quot;org.batfish.datamodel.IpWildcardIpSpace&quot;,&quot;ipWildcard&quot;:&quot;0.0.0.0/0&quot;},&quot;negate&quot;:false,&quot;srcIps&quot;:{&quot;class&quot;:&quot;org.batfish.datamodel.IpWildcardIpSpace&quot;,&quot;ipWildcard&quot;:&quot;218.246.165.90&quot;}}}},{&quot;class&quot;:&quot;org.batfish.datamodel.acl.NotMatchExpr&quot;,&quot;operand&quot;:{&quot;class&quot;:&quot;org.batfish.datamodel.acl.MatchHeaderSpace&quot;,&quot;headerSpace&quot;:{&quot;dstIps&quot;:{&quot;class&quot;:&quot;org.batfish.datamodel.IpWildcardIpSpace&quot;,&quot;ipWildcard&quot;:&quot;0.0.0.0/0&quot;},&quot;negate&quot;:false,&quot;srcIps&quot;:{&quot;class&quot;:&quot;org.batfish.datamodel.IpWildcardIpSpace&quot;,&quot;ipWildcard&quot;:&quot;219.185.241.117&quot;}}}},{&quot;class&quot;:&quot;org.batfish.datamodel.acl.NotMatchExpr&quot;,&quot;operand&quot;:{&quot;class&quot;:&quot;org.batfish.datamodel.acl.MatchHeaderSpace&quot;,&quot;headerSpace&quot;:{&quot;dstIps&quot;:{&quot;class&quot;:&quot;org.batfish.datamodel.IpWildcardIpSpace&quot;,&quot;ipWildcard&quot;:&quot;0.0.0.0/0&quot;},&quot;negate&quot;:false,&quot;srcIps&quot;:{&quot;class&quot;:&quot;org.batfish.datamodel.IpWildcardIpSpace&quot;,&quot;ipWildcard&quot;:&quot;224.0.0.0/3&quot;}}}},{&quot;class&quot;:&quot;org.batfish.datamodel.acl.NotMatchExpr&quot;,&quot;operand&quot;:{&quot;class&quot;:&quot;org.batfish.datamodel.acl.MatchHeaderSpace&quot;,&quot;headerSpace&quot;:{&quot;dstIps&quot;:{&quot;class&quot;:&quot;org.batfish.datamodel.IpWildcardIpSpace&quot;,&quot;ipWildcard&quot;:&quot;11.125.89.32/30&quot;},&quot;negate&quot;:false,&quot;srcIps&quot;:{&quot;class&quot;:&quot;org.batfish.datamodel.IpWildcardIpSpace&quot;,&quot;ipWildcard&quot;:&quot;0.0.0.0/0&quot;}}}},{&quot;class&quot;:&quot;org.batfish.datamodel.acl.NotMatchExpr&quot;,&quot;operand&quot;:{&quot;class&quot;:&quot;org.batfish.datamodel.acl.MatchHeaderSpace&quot;,&quot;headerSpace&quot;:{&quot;dstIps&quot;:{&quot;class&quot;:&quot;org.batfish.datamodel.IpWildcardIpSpace&quot;,&quot;ipWildcard&quot;:&quot;11.125.89.180/30&quot;},&quot;negate&quot;:false,&quot;srcIps&quot;:{&quot;class&quot;:&quot;org.batfish.datamodel.IpWildcardIpSpace&quot;,&quot;ipWildcard&quot;:&quot;0.0.0.0/0&quot;}}}},{&quot;class&quot;:&quot;org.batfish.datamodel.acl.NotMatchExpr&quot;,&quot;operand&quot;:{&quot;class&quot;:&quot;org.batfish.datamodel.acl.MatchHeaderSpace&quot;,&quot;headerSpace&quot;:{&quot;dstIps&quot;:{&quot;class&quot;:&quot;org.batfish.datamodel.IpWildcardIpSpace&quot;,&quot;ipWildcard&quot;:&quot;11.125.89.220/30&quot;},&quot;negate&quot;:false,&quot;srcIps&quot;:{&quot;class&quot;:&quot;org.batfish.datamodel.IpWildcardIpSpace&quot;,&quot;ipWildcard&quot;:&quot;0.0.0.0/0&quot;}}}},{&quot;class&quot;:&quot;org.batfish.datamodel.acl.NotMatchExpr&quot;,&quot;operand&quot;:{&quot;class&quot;:&quot;org.batfish.datamodel.acl.MatchHeaderSpace&quot;,&quot;headerSpace&quot;:{&quot;dstIps&quot;:{&quot;class&quot;:&quot;org.batfish.datamodel.IpWildcardIpSpace&quot;,&quot;ipWildcard&quot;:&quot;11.125.89.232/30&quot;},&quot;negate&quot;:false,&quot;srcIps&quot;:{&quot;class&quot;:&quot;org.batfish.datamodel.IpWildcardIpSpace&quot;,&quot;ipWildcard&quot;:&quot;0.0.0.0/0&quot;}}}}]},{&quot;class&quot;:&quot;org.batfish.datamodel.acl.AndMatchExpr&quot;,&quot;conjuncts&quot;:[{&quot;class&quot;:&quot;org.batfish.datamodel.acl.MatchHeaderSpace&quot;,&quot;headerSpace&quot;:{&quot;dstIps&quot;:{&quot;class&quot;:&quot;org.batfish.datamodel.IpWildcardIpSpace&quot;,&quot;ipWildcard&quot;:&quot;0.0.0.0/0&quot;},&quot;icmpCodes&quot;:[&quot;0-0&quot;],&quot;icmpTypes&quot;:[&quot;11-11&quot;],&quot;ipProtocols&quot;:[&quot;ICMP&quot;],&quot;negate&quot;:false,&quot;srcIps&quot;:{&quot;class&quot;:&quot;org.batfish.datamodel.IpWildcardIpSpace&quot;,&quot;ipWildcard&quot;:&quot;0.0.0.0/0&quot;}}},{&quot;class&quot;:&quot;org.batfish.datamodel.acl.NotMatchExpr&quot;,&quot;operand&quot;:{&quot;class&quot;:&quot;org.batfish.datamodel.acl.MatchHeaderSpace&quot;,&quot;headerSpace&quot;:{&quot;dstIps&quot;:{&quot;class&quot;:&quot;org.batfish.datamodel.IpWildcardIpSpace&quot;,&quot;ipWildcard&quot;:&quot;0.0.0.0/0&quot;},&quot;negate&quot;:false,&quot;srcIps&quot;:{&quot;class&quot;:&quot;org.batfish.datamodel.IpWildcardIpSpace&quot;,&quot;ipWildcard&quot;:&quot;2.80.3.219&quot;}}}},{&quot;class&quot;:&quot;org.batfish.datamodel.acl.NotMatchExpr&quot;,&quot;operand&quot;:{&quot;class&quot;:&quot;org.batfish.datamodel.acl.MatchHeaderSpace&quot;,&quot;headerSpace&quot;:{&quot;dstIps&quot;:{&quot;class&quot;:&quot;org.batfish.datamodel.IpWildcardIpSpace&quot;,&quot;ipWildcard&quot;:&quot;0.0.0.0/0&quot;},&quot;negate&quot;:false,&quot;srcIps&quot;:{&quot;class&quot;:&quot;org.batfish.datamodel.IpWildcardIpSpace&quot;,&quot;ipWildcard&quot;:&quot;8.89.120.0/22&quot;}}}},{&quot;class&quot;:&quot;org.batfish.datamodel.acl.NotMatchExpr&quot;,&quot;operand&quot;:{&quot;class&quot;:&quot;org.batfish.datamodel.acl.MatchHeaderSpace&quot;,&quot;headerSpace&quot;:{&quot;dstIps&quot;:{&quot;class&quot;:&quot;org.batfish.datamodel.IpWildcardIpSpace&quot;,&quot;ipWildcard&quot;:&quot;0.0.0.0/0&quot;},&quot;negate&quot;:false,&quot;srcIps&quot;:{&quot;class&quot;:&quot;org.batfish.datamodel.IpWildcardIpSpace&quot;,&quot;ipWildcard&quot;:&quot;10.64.90.249&quot;}}}},{&quot;class&quot;:&quot;org.batfish.datamodel.acl.NotMatchExpr&quot;,&quot;operand&quot;:{&quot;class&quot;:&quot;org.batfish.datamodel.acl.MatchHeaderSpace&quot;,&quot;headerSpace&quot;:{&quot;dstIps&quot;:{&quot;class&quot;:&quot;org.batfish.datamodel.IpWildcardIpSpace&quot;,&quot;ipWildcard&quot;:&quot;0.0.0.0/0&quot;},&quot;negate&quot;:false,&quot;srcIps&quot;:{&quot;class&quot;:&quot;org.batfish.datamodel.IpWildcardIpSpace&quot;,&quot;ipWildcard&quot;:&quot;11.36.192.0/19&quot;}}}},{&quot;class&quot;:&quot;org.batfish.datamodel.acl.NotMatchExpr&quot;,&quot;operand&quot;:{&quot;class&quot;:&quot;org.batfish.datamodel.acl.MatchHeaderSpace&quot;,&quot;headerSpace&quot;:{&quot;dstIps&quot;:{&quot;class&quot;:&quot;org.batfish.datamodel.IpWildcardIpSpace&quot;,&quot;ipWildcard&quot;:&quot;0.0.0.0/0&quot;},&quot;negate&quot;:false,&quot;srcIps&quot;:{&quot;class&quot;:&quot;org.batfish.datamodel.IpWildcardIpSpace&quot;,&quot;ipWildcard&quot;:&quot;11.125.64.0/19&quot;}}}},{&quot;class&quot;:&quot;org.batfish.datamodel.acl.NotMatchExpr&quot;,&quot;operand&quot;:{&quot;class&quot;:&quot;org.batfish.datamodel.acl.MatchHeaderSpace&quot;,&quot;headerSpace&quot;:{&quot;dstIps&quot;:{&quot;class&quot;:&quot;org.batfish.datamodel.IpWildcardIpSpace&quot;,&quot;ipWildcard&quot;:&quot;0.0.0.0/0&quot;},&quot;negate&quot;:false,&quot;srcIps&quot;:{&quot;class&quot;:&quot;org.batfish.datamodel.IpWildcardIpSpace&quot;,&quot;ipWildcard&quot;:&quot;27.212.145.150&quot;}}}},{&quot;class&quot;:&quot;org.batfish.datamodel.acl.NotMatchExpr&quot;,&quot;operand&quot;:{&quot;class&quot;:&quot;org.batfish.datamodel.acl.MatchHeaderSpace&quot;,&quot;headerSpace&quot;:{&quot;dstIps&quot;:{&quot;class&quot;:&quot;org.batfish.datamodel.IpWildcardIpSpace&quot;,&quot;ipWildcard&quot;:&quot;0.0.0.0/0&quot;},&quot;negate&quot;:false,&quot;srcIps&quot;:{&quot;class&quot;:&quot;org.batfish.datamodel.IpWildcardIpSpace&quot;,&quot;ipWildcard&quot;:&quot;28.69.250.136&quot;}}}},{&quot;class&quot;:&quot;org.batfish.datamodel.acl.NotMatchExpr&quot;,&quot;operand&quot;:{&quot;class&quot;:&quot;org.batfish.datamodel.acl.MatchHeaderSpace&quot;,&quot;headerSpace&quot;:{&quot;dstIps&quot;:{&quot;class&quot;:&quot;org.batfish.datamodel.IpWildcardIpSpace&quot;,&quot;ipWildcard&quot;:&quot;0.0.0.0/0&quot;},&quot;negate&quot;:false,&quot;srcIps&quot;:{&quot;class&quot;:&quot;org.batfish.datamodel.IpWildcardIpSpace&quot;,&quot;ipWildcard&quot;:&quot;29.228.179.210&quot;}}}},{&quot;class&quot;:&quot;org.batfish.datamodel.acl.NotMatchExpr&quot;,&quot;operand&quot;:{&quot;class&quot;:&quot;org.batfish.datamodel.acl.MatchHeaderSpace&quot;,&quot;headerSpace&quot;:{&quot;dstIps&quot;:{&quot;class&quot;:&quot;org.batfish.datamodel.IpWildcardIpSpace&quot;,&quot;ipWildcard&quot;:&quot;0.0.0.0/0&quot;},&quot;negate&quot;:false,&quot;srcIps&quot;:{&quot;class&quot;:&quot;org.batfish.datamodel.IpWildcardIpSpace&quot;,&quot;ipWildcard&quot;:&quot;54.0.0.0/8&quot;}}}},{&quot;class&quot;:&quot;org.batfish.datamodel.acl.NotMatchExpr&quot;,&quot;operand&quot;:{&quot;class&quot;:&quot;org.batfish.datamodel.acl.MatchHeaderSpace&quot;,&quot;headerSpace&quot;:{&quot;dstIps&quot;:{&quot;class&quot;:&quot;org.batfish.datamodel.IpWildcardIpSpace&quot;,&quot;ipWildcard&quot;:&quot;0.0.0.0/0&quot;},&quot;negate&quot;:false,&quot;srcIps&quot;:{&quot;class&quot;:&quot;org.batfish.datamodel.IpWildcardIpSpace&quot;,&quot;ipWildcard&quot;:&quot;118.0.0.0/8&quot;}}}},{&quot;class&quot;:&quot;org.batfish.datamodel.acl.NotMatchExpr&quot;,&quot;operand&quot;:{&quot;class&quot;:&quot;org.batfish.datamodel.acl.MatchHeaderSpace&quot;,&quot;headerSpace&quot;:{&quot;dstIps&quot;:{&quot;class&quot;:&quot;org.batfish.datamodel.IpWildcardIpSpace&quot;,&quot;ipWildcard&quot;:&quot;0.0.0.0/0&quot;},&quot;negate&quot;:false,&quot;srcIps&quot;:{&quot;class&quot;:&quot;org.batfish.datamodel.IpWildcardIpSpace&quot;,&quot;ipWildcard&quot;:&quot;131.159.53.215&quot;}}}},{&quot;class&quot;:&quot;org.batfish.datamodel.acl.NotMatchExpr&quot;,&quot;operand&quot;:{&quot;class&quot;:&quot;org.batfish.datamodel.acl.MatchHeaderSpace&quot;,&quot;headerSpace&quot;:{&quot;dstIps&quot;:{&quot;class&quot;:&quot;org.batfish.datamodel.IpWildcardIpSpace&quot;,&quot;ipWildcard&quot;:&quot;0.0.0.0/0&quot;},&quot;negate&quot;:false,&quot;srcIps&quot;:{&quot;class&quot;:&quot;org.batfish.datamodel.IpWildcardIpSpace&quot;,&quot;ipWildcard&quot;:&quot;144.49.45.40&quot;}}}},{&quot;class&quot;:&quot;org.batfish.datamodel.acl.NotMatchExpr&quot;,&quot;operand&quot;:{&quot;class&quot;:&quot;org.batfish.datamodel.acl.MatchHeaderSpace&quot;,&quot;headerSpace&quot;:{&quot;dstIps&quot;:{&quot;class&quot;:&quot;org.batfish.datamodel.IpWildcardIpSpace&quot;,&quot;ipWildcard&quot;:&quot;0.0.0.0/0&quot;},&quot;negate&quot;:false,&quot;srcIps&quot;:{&quot;class&quot;:&quot;org.batfish.datamodel.IpWildcardIpSpace&quot;,&quot;ipWildcard&quot;:&quot;163.157.0.0/16&quot;}}}},{&quot;class&quot;:&quot;org.batfish.datamodel.acl.NotMatchExpr&quot;,&quot;operand&quot;:{&quot;class&quot;:&quot;org.batfish.datamodel.acl.MatchHeaderSpace&quot;,&quot;headerSpace&quot;:{&quot;dstIps&quot;:{&quot;class&quot;:&quot;org.batfish.datamodel.IpWildcardIpSpace&quot;,&quot;ipWildcard&quot;:&quot;0.0.0.0/0&quot;},&quot;negate&quot;:false,&quot;srcIps&quot;:{&quot;class&quot;:&quot;org.batfish.datamodel.IpWildcardIpSpace&quot;,&quot;ipWildcard&quot;:&quot;163.255.18.63&quot;}}}},{&quot;class&quot;:&quot;org.batfish.datamodel.acl.NotMatchExpr&quot;,&quot;operand&quot;:{&quot;class&quot;:&quot;org.batfish.datamodel.acl.MatchHeaderSpace&quot;,&quot;headerSpace&quot;:{&quot;dstIps&quot;:{&quot;class&quot;:&quot;org.batfish.datamodel.IpWildcardIpSpace&quot;,&quot;ipWildcard&quot;:&quot;0.0.0.0/0&quot;},&quot;negate&quot;:false,&quot;srcIps&quot;:{&quot;class&quot;:&quot;org.batfish.datamodel.IpWildcardIpSpace&quot;,&quot;ipWildcard&quot;:&quot;166.144.0.0/12&quot;}}}},{&quot;class&quot;:&quot;org.batfish.datamodel.acl.NotMatchExpr&quot;,&quot;operand&quot;:{&quot;class&quot;:&quot;org.batfish.datamodel.acl.MatchHeaderSpace&quot;,&quot;headerSpace&quot;:{&quot;dstIps&quot;:{&quot;class&quot;:&quot;org.batfish.datamodel.IpWildcardIpSpace&quot;,&quot;ipWildcard&quot;:&quot;0.0.0.0/0&quot;},&quot;negate&quot;:false,&quot;srcIps&quot;:{&quot;class&quot;:&quot;org.batfish.datamodel.IpWildcardIpSpace&quot;,&quot;ipWildcard&quot;:&quot;194.181.135.214&quot;}}}},{&quot;class&quot;:&quot;org.batfish.datamodel.acl.NotMatchExpr&quot;,&quot;operand&quot;:{&quot;class&quot;:&quot;org.batfish.datamodel.acl.MatchHeaderSpace&quot;,&quot;headerSpace&quot;:{&quot;dstIps&quot;:{&quot;class&quot;:&quot;org.batfish.datamodel.IpWildcardIpSpace&quot;,&quot;ipWildcard&quot;:&quot;0.0.0.0/0&quot;},&quot;negate&quot;:false,&quot;srcIps&quot;:{&quot;class&quot;:&quot;org.batfish.datamodel.IpWildcardIpSpace&quot;,&quot;ipWildcard&quot;:&quot;196.64.84.239&quot;}}}},{&quot;class&quot;:&quot;org.batfish.datamodel.acl.NotMatchExpr&quot;,&quot;operand&quot;:{&quot;class&quot;:&quot;org.batfish.datamodel.acl.MatchHeaderSpace&quot;,&quot;headerSpace&quot;:{&quot;dstIps&quot;:{&quot;class&quot;:&quot;org.batfish.datamodel.IpWildcardIpSpace&quot;,&quot;ipWildcard&quot;:&quot;0.0.0.0/0&quot;},&quot;negate&quot;:false,&quot;srcIps&quot;:{&quot;class&quot;:&quot;org.batfish.datamodel.IpWildcardIpSpace&quot;,&quot;ipWildcard&quot;:&quot;198.120.0.0/16&quot;}}}},{&quot;class&quot;:&quot;org.batfish.datamodel.acl.NotMatchExpr&quot;,&quot;operand&quot;:{&quot;class&quot;:&quot;org.batfish.datamodel.acl.MatchHeaderSpace&quot;,&quot;headerSpace&quot;:{&quot;dstIps&quot;:{&quot;class&quot;:&quot;org.batfish.datamodel.IpWildcardIpSpace&quot;,&quot;ipWildcard&quot;:&quot;0.0.0.0/0&quot;},&quot;negate&quot;:false,&quot;srcIps&quot;:{&quot;class&quot;:&quot;org.batfish.datamodel.IpWildcardIpSpace&quot;,&quot;ipWildcard&quot;:&quot;198.170.50.0/24&quot;}}}},{&quot;class&quot;:&quot;org.batfish.datamodel.acl.NotMatchExpr&quot;,&quot;operand&quot;:{&quot;class&quot;:&quot;org.batfish.datamodel.acl.MatchHeaderSpace&quot;,&quot;headerSpace&quot;:{&quot;dstIps&quot;:{&quot;class&quot;:&quot;org.batfish.datamodel.IpWildcardIpSpace&quot;,&quot;ipWildcard&quot;:&quot;0.0.0.0/0&quot;},&quot;negate&quot;:false,&quot;srcIps&quot;:{&quot;class&quot;:&quot;org.batfish.datamodel.IpWildcardIpSpace&quot;,&quot;ipWildcard&quot;:&quot;200.45.87.238&quot;}}}},{&quot;class&quot;:&quot;org.batfish.datamodel.acl.NotMatchExpr&quot;,&quot;operand&quot;:{&quot;class&quot;:&quot;org.batfish.datamodel.acl.MatchHeaderSpace&quot;,&quot;headerSpace&quot;:{&quot;dstIps&quot;:{&quot;class&quot;:&quot;org.batfish.datamodel.IpWildcardIpSpace&quot;,&quot;ipWildcard&quot;:&quot;0.0.0.0/0&quot;},&quot;negate&quot;:false,&quot;srcIps&quot;:{&quot;class&quot;:&quot;org.batfish.datamodel.IpWildcardIpSpace&quot;,&quot;ipWildcard&quot;:&quot;202.45.130.141&quot;}}}},{&quot;class&quot;:&quot;org.batfish.datamodel.acl.NotMatchExpr&quot;,&quot;operand&quot;:{&quot;class&quot;:&quot;org.batfish.datamodel.acl.MatchHeaderSpace&quot;,&quot;headerSpace&quot;:{&quot;dstIps&quot;:{&quot;class&quot;:&quot;org.batfish.datamodel.IpWildcardIpSpace&quot;,&quot;ipWildcard&quot;:&quot;0.0.0.0/0&quot;},&quot;negate&quot;:false,&quot;srcIps&quot;:{&quot;class&quot;:&quot;org.batfish.datamodel.IpWildcardIpSpace&quot;,&quot;ipWildcard&quot;:&quot;207.70.46.217&quot;}}}},{&quot;class&quot;:&quot;org.batfish.datamodel.acl.NotMatchExpr&quot;,&quot;operand&quot;:{&quot;class&quot;:&quot;org.batfish.datamodel.acl.MatchHeaderSpace&quot;,&quot;headerSpace&quot;:{&quot;dstIps&quot;:{&quot;class&quot;:&quot;org.batfish.datamodel.IpWildcardIpSpace&quot;,&quot;ipWildcard&quot;:&quot;0.0.0.0/0&quot;},&quot;negate&quot;:false,&quot;srcIps&quot;:{&quot;class&quot;:&quot;org.batfish.datamodel.IpWildcardIpSpace&quot;,&quot;ipWildcard&quot;:&quot;212.26.132.18&quot;}}}},{&quot;class&quot;:&quot;org.batfish.datamodel.acl.NotMatchExpr&quot;,&quot;operand&quot;:{&quot;class&quot;:&quot;org.batfish.datamodel.acl.MatchHeaderSpace&quot;,&quot;headerSpace&quot;:{&quot;dstIps&quot;:{&quot;class&quot;:&quot;org.batfish.datamodel.IpWildcardIpSpace&quot;,&quot;ipWildcard&quot;:&quot;0.0.0.0/0&quot;},&quot;negate&quot;:false,&quot;srcIps&quot;:{&quot;class&quot;:&quot;org.batfish.datamodel.IpWildcardIpSpace&quot;,&quot;ipWildcard&quot;:&quot;214.220.213.107&quot;}}}},{&quot;class&quot;:&quot;org.batfish.datamodel.acl.NotMatchExpr&quot;,&quot;operand&quot;:{&quot;class&quot;:&quot;org.batfish.datamodel.acl.MatchHeaderSpace&quot;,&quot;headerSpace&quot;:{&quot;dstIps&quot;:{&quot;class&quot;:&quot;org.batfish.datamodel.IpWildcardIpSpace&quot;,&quot;ipWildcard&quot;:&quot;0.0.0.0/0&quot;},&quot;negate&quot;:false,&quot;srcIps&quot;:{&quot;class&quot;:&quot;org.batfish.datamodel.IpWildcardIpSpace&quot;,&quot;ipWildcard&quot;:&quot;218.8.104.0/25&quot;}}}},{&quot;class&quot;:&quot;org.batfish.datamodel.acl.NotMatchExpr&quot;,&quot;operand&quot;:{&quot;class&quot;:&quot;org.batfish.datamodel.acl.MatchHeaderSpace&quot;,&quot;headerSpace&quot;:{&quot;dstIps&quot;:{&quot;class&quot;:&quot;org.batfish.datamodel.IpWildcardIpSpace&quot;,&quot;ipWildcard&quot;:&quot;0.0.0.0/0&quot;},&quot;negate&quot;:false,&quot;srcIps&quot;:{&quot;class&quot;:&quot;org.batfish.datamodel.IpWildcardIpSpace&quot;,&quot;ipWildcard&quot;:&quot;218.8.106.128/25&quot;}}}},{&quot;class&quot;:&quot;org.batfish.datamodel.acl.NotMatchExpr&quot;,&quot;operand&quot;:{&quot;class&quot;:&quot;org.batfish.datamodel.acl.MatchHeaderSpace&quot;,&quot;headerSpace&quot;:{&quot;dstIps&quot;:{&quot;class&quot;:&quot;org.batfish.datamodel.IpWildcardIpSpace&quot;,&quot;ipWildcard&quot;:&quot;0.0.0.0/0&quot;},&quot;negate&quot;:false,&quot;srcIps&quot;:{&quot;class&quot;:&quot;org.batfish.datamodel.IpWildcardIpSpace&quot;,&quot;ipWildcard&quot;:&quot;218.8.107.0/25&quot;}}}},{&quot;class&quot;:&quot;org.batfish.datamodel.acl.NotMatchExpr&quot;,&quot;operand&quot;:{&quot;class&quot;:&quot;org.batfish.datamodel.acl.MatchHeaderSpace&quot;,&quot;headerSpace&quot;:{&quot;dstIps&quot;:{&quot;class&quot;:&quot;org.batfish.datamodel.IpWildcardIpSpace&quot;,&quot;ipWildcard&quot;:&quot;0.0.0.0/0&quot;},&quot;negate&quot;:false,&quot;srcIps&quot;:{&quot;class&quot;:&quot;org.batfish.datamodel.IpWildcardIpSpace&quot;,&quot;ipWildcard&quot;:&quot;218.66.51.0/24&quot;}}}},{&quot;class&quot;:&quot;org.batfish.datamodel.acl.NotMatchExpr&quot;,&quot;operand&quot;:{&quot;class&quot;:&quot;org.batfish.datamodel.acl.MatchHeaderSpace&quot;,&quot;headerSpace&quot;:{&quot;dstIps&quot;:{&quot;class&quot;:&quot;org.batfish.datamodel.IpWildcardIpSpace&quot;,&quot;ipWildcard&quot;:&quot;0.0.0.0/0&quot;},&quot;negate&quot;:false,&quot;srcIps&quot;:{&quot;class&quot;:&quot;org.batfish.datamodel.IpWildcardIpSpace&quot;,&quot;ipWildcard&quot;:&quot;218.66.57.0/24&quot;}}}},{&quot;class&quot;:&quot;org.batfish.datamodel.acl.NotMatchExpr&quot;,&quot;operand&quot;:{&quot;class&quot;:&quot;org.batfish.datamodel.acl.MatchHeaderSpace&quot;,&quot;headerSpace&quot;:{&quot;dstIps&quot;:{&quot;class&quot;:&quot;org.batfish.datamodel.IpWildcardIpSpace&quot;,&quot;ipWildcard&quot;:&quot;0.0.0.0/0&quot;},&quot;negate&quot;:false,&quot;srcIps&quot;:{&quot;class&quot;:&quot;org.batfish.datamodel.IpWildcardIpSpace&quot;,&quot;ipWildcard&quot;:&quot;218.67.46.0/23&quot;}}}},{&quot;class&quot;:&quot;org.batfish.datamodel.acl.NotMatchExpr&quot;,&quot;operand&quot;:{&quot;class&quot;:&quot;org.batfish.datamodel.acl.MatchHeaderSpace&quot;,&quot;headerSpace&quot;:{&quot;dstIps&quot;:{&quot;class&quot;:&quot;org.batfish.datamodel.IpWildcardIpSpace&quot;,&quot;ipWildcard&quot;:&quot;0.0.0.0/0&quot;},&quot;negate&quot;:false,&quot;srcIps&quot;:{&quot;class&quot;:&quot;org.batfish.datamodel.IpWildcardIpSpace&quot;,&quot;ipWildcard&quot;:&quot;218.67.96.0/22&quot;}}}},{&quot;class&quot;:&quot;org.batfish.datamodel.acl.NotMatchExpr&quot;,&quot;operand&quot;:{&quot;class&quot;:&quot;org.batfish.datamodel.acl.MatchHeaderSpace&quot;,&quot;headerSpace&quot;:{&quot;dstIps&quot;:{&quot;class&quot;:&quot;org.batfish.datamodel.IpWildcardIpSpace&quot;,&quot;ipWildcard&quot;:&quot;0.0.0.0/0&quot;},&quot;negate&quot;:false,&quot;srcIps&quot;:{&quot;class&quot;:&quot;org.batfish.datamodel.IpWildcardIpSpace&quot;,&quot;ipWildcard&quot;:&quot;218.67.213.0/24&quot;}}}},{&quot;class&quot;:&quot;org.batfish.datamodel.acl.NotMatchExpr&quot;,&quot;operand&quot;:{&quot;class&quot;:&quot;org.batfish.datamodel.acl.MatchHeaderSpace&quot;,&quot;headerSpace&quot;:{&quot;dstIps&quot;:{&quot;class&quot;:&quot;org.batfish.datamodel.IpWildcardIpSpace&quot;,&quot;ipWildcard&quot;:&quot;0.0.0.0/0&quot;},&quot;negate&quot;:false,&quot;srcIps&quot;:{&quot;class&quot;:&quot;org.batfish.datamodel.IpWildcardIpSpace&quot;,&quot;ipWildcard&quot;:&quot;218.111.16.132&quot;}}}},{&quot;class&quot;:&quot;org.batfish.datamodel.acl.NotMatchExpr&quot;,&quot;operand&quot;:{&quot;class&quot;:&quot;org.batfish.datamodel.acl.MatchHeaderSpace&quot;,&quot;headerSpace&quot;:{&quot;dstIps&quot;:{&quot;class&quot;:&quot;org.batfish.datamodel.IpWildcardIpSpace&quot;,&quot;ipWildcard&quot;:&quot;0.0.0.0/0&quot;},&quot;negate&quot;:false,&quot;srcIps&quot;:{&quot;class&quot;:&quot;org.batfish.datamodel.IpWildcardIpSpace&quot;,&quot;ipWildcard&quot;:&quot;218.246.165.90&quot;}}}},{&quot;class&quot;:&quot;org.batfish.datamodel.acl.NotMatchExpr&quot;,&quot;operand&quot;:{&quot;class&quot;:&quot;org.batfish.datamodel.acl.MatchHeaderSpace&quot;,&quot;headerSpace&quot;:{&quot;dstIps&quot;:{&quot;class&quot;:&quot;org.batfish.datamodel.IpWildcardIpSpace&quot;,&quot;ipWildcard&quot;:&quot;0.0.0.0/0&quot;},&quot;negate&quot;:false,&quot;srcIps&quot;:{&quot;class&quot;:&quot;org.batfish.datamodel.IpWildcardIpSpace&quot;,&quot;ipWildcard&quot;:&quot;219.185.241.117&quot;}}}},{&quot;class&quot;:&quot;org.batfish.datamodel.acl.NotMatchExpr&quot;,&quot;operand&quot;:{&quot;class&quot;:&quot;org.batfish.datamodel.acl.MatchHeaderSpace&quot;,&quot;headerSpace&quot;:{&quot;dstIps&quot;:{&quot;class&quot;:&quot;org.batfish.datamodel.IpWildcardIpSpace&quot;,&quot;ipWildcard&quot;:&quot;0.0.0.0/0&quot;},&quot;negate&quot;:false,&quot;srcIps&quot;:{&quot;class&quot;:&quot;org.batfish.datamodel.IpWildcardIpSpace&quot;,&quot;ipWildcard&quot;:&quot;224.0.0.0/3&quot;}}}},{&quot;class&quot;:&quot;org.batfish.datamodel.acl.NotMatchExpr&quot;,&quot;operand&quot;:{&quot;class&quot;:&quot;org.batfish.datamodel.acl.MatchHeaderSpace&quot;,&quot;headerSpace&quot;:{&quot;dstIps&quot;:{&quot;class&quot;:&quot;org.batfish.datamodel.IpWildcardIpSpace&quot;,&quot;ipWildcard&quot;:&quot;11.125.89.32/30&quot;},&quot;negate&quot;:false,&quot;srcIps&quot;:{&quot;class&quot;:&quot;org.batfish.datamodel.IpWildcardIpSpace&quot;,&quot;ipWildcard&quot;:&quot;0.0.0.0/0&quot;}}}},{&quot;class&quot;:&quot;org.batfish.datamodel.acl.NotMatchExpr&quot;,&quot;operand&quot;:{&quot;class&quot;:&quot;org.batfish.datamodel.acl.MatchHeaderSpace&quot;,&quot;headerSpace&quot;:{&quot;dstIps&quot;:{&quot;class&quot;:&quot;org.batfish.datamodel.IpWildcardIpSpace&quot;,&quot;ipWildcard&quot;:&quot;11.125.89.180/30&quot;},&quot;negate&quot;:false,&quot;srcIps&quot;:{&quot;class&quot;:&quot;org.batfish.datamodel.IpWildcardIpSpace&quot;,&quot;ipWildcard&quot;:&quot;0.0.0.0/0&quot;}}}},{&quot;class&quot;:&quot;org.batfish.datamodel.acl.NotMatchExpr&quot;,&quot;operand&quot;:{&quot;class&quot;:&quot;org.batfish.datamodel.acl.MatchHeaderSpace&quot;,&quot;headerSpace&quot;:{&quot;dstIps&quot;:{&quot;class&quot;:&quot;org.batfish.datamodel.IpWildcardIpSpace&quot;,&quot;ipWildcard&quot;:&quot;11.125.89.220/30&quot;},&quot;negate&quot;:false,&quot;srcIps&quot;:{&quot;class&quot;:&quot;org.batfish.datamodel.IpWildcardIpSpace&quot;,&quot;ipWildcard&quot;:&quot;0.0.0.0/0&quot;}}}},{&quot;class&quot;:&quot;org.batfish.datamodel.acl.NotMatchExpr&quot;,&quot;operand&quot;:{&quot;class&quot;:&quot;org.batfish.datamodel.acl.MatchHeaderSpace&quot;,&quot;headerSpace&quot;:{&quot;dstIps&quot;:{&quot;class&quot;:&quot;org.batfish.datamodel.IpWildcardIpSpace&quot;,&quot;ipWildcard&quot;:&quot;11.125.89.232/30&quot;},&quot;negate&quot;:false,&quot;srcIps&quot;:{&quot;class&quot;:&quot;org.batfish.datamodel.IpWildcardIpSpace&quot;,&quot;ipWildcard&quot;:&quot;0.0.0.0/0&quot;}}}}]},{&quot;class&quot;:&quot;org.batfish.datamodel.acl.AndMatchExpr&quot;,&quot;conjuncts&quot;:[{&quot;class&quot;:&quot;org.batfish.datamodel.acl.MatchHeaderSpace&quot;,&quot;headerSpace&quot;:{&quot;dstIps&quot;:{&quot;class&quot;:&quot;org.batfish.datamodel.IpWildcardIpSpace&quot;,&quot;ipWildcard&quot;:&quot;218.8.104.58&quot;},&quot;dstPorts&quot;:[&quot;53-53&quot;],&quot;ipProtocols&quot;:[&quot;UDP&quot;],&quot;negate&quot;:false,&quot;srcIps&quot;:{&quot;class&quot;:&quot;org.batfish.datamodel.IpWildcardIpSpace&quot;,&quot;ipWildcard&quot;:&quot;10.10.10.0/24&quot;}}},{&quot;class&quot;:&quot;org.batfish.datamodel.acl.NotMatchExpr&quot;,&quot;operand&quot;:{&quot;class&quot;:&quot;org.batfish.datamodel.acl.MatchHeaderSpace&quot;,&quot;headerSpace&quot;:{&quot;dstIps&quot;:{&quot;class&quot;:&quot;org.batfish.datamodel.IpWildcardIpSpace&quot;,&quot;ipWildcard&quot;:&quot;218.8.104.58&quot;},&quot;dstPorts&quot;:[&quot;53-53&quot;],&quot;ipProtocols&quot;:[&quot;UDP&quot;],&quot;negate&quot;:false,&quot;srcIps&quot;:{&quot;class&quot;:&quot;org.batfish.datamodel.IpWildcardIpSpace&quot;,&quot;ipWildcard&quot;:&quot;10.10.10.42&quot;}}}}]},{&quot;class&quot;:&quot;org.batfish.datamodel.acl.MatchHeaderSpace&quot;,&quot;headerSpace&quot;:{&quot;dstIps&quot;:{&quot;class&quot;:&quot;org.batfish.datamodel.IpWildcardIpSpace&quot;,&quot;ipWildcard&quot;:&quot;218.8.104.63&quot;},&quot;dstPorts&quot;:[&quot;179-179&quot;],&quot;ipProtocols&quot;:[&quot;TCP&quot;],&quot;negate&quot;:false,&quot;srcIps&quot;:{&quot;class&quot;:&quot;org.batfish.datamodel.IpWildcardIpSpace&quot;,&quot;ipWildcard&quot;:&quot;218.8.104.62&quot;}}},{&quot;class&quot;:&quot;org.batfish.datamodel.acl.MatchHeaderSpace&quot;,&quot;headerSpace&quot;:{&quot;dstIps&quot;:{&quot;class&quot;:&quot;org.batfish.datamodel.IpWildcardIpSpace&quot;,&quot;ipWildcard&quot;:&quot;218.8.104.63&quot;},&quot;icmpTypes&quot;:[&quot;0-0&quot;],&quot;ipProtocols&quot;:[&quot;ICMP&quot;],&quot;negate&quot;:false,&quot;srcIps&quot;:{&quot;class&quot;:&quot;org.batfish.datamodel.IpWildcardIpSpace&quot;,&quot;ipWildcard&quot;:&quot;218.8.104.62&quot;}}},{&quot;class&quot;:&quot;org.batfish.datamodel.acl.MatchHeaderSpace&quot;,&quot;headerSpace&quot;:{&quot;dstIps&quot;:{&quot;class&quot;:&quot;org.batfish.datamodel.IpWildcardIpSpace&quot;,&quot;ipWildcard&quot;:&quot;218.8.104.58&quot;},&quot;dstPorts&quot;:[&quot;179-179&quot;],&quot;ipProtocols&quot;:[&quot;TCP&quot;],&quot;negate&quot;:false,&quot;srcIps&quot;:{&quot;class&quot;:&quot;org.batfish.datamodel.IpWildcardIpSpace&quot;,&quot;ipWildcard&quot;:&quot;218.8.104.59&quot;}}},{&quot;class&quot;:&quot;org.batfish.datamodel.acl.MatchHeaderSpace&quot;,&quot;headerSpace&quot;:{&quot;dstIps&quot;:{&quot;class&quot;:&quot;org.batfish.datamodel.IpWildcardIpSpace&quot;,&quot;ipWildcard&quot;:&quot;218.8.104.58&quot;},&quot;icmpTypes&quot;:[&quot;0-0&quot;],&quot;ipProtocols&quot;:[&quot;ICMP&quot;],&quot;negate&quot;:false,&quot;srcIps&quot;:{&quot;class&quot;:&quot;org.batfish.datamodel.IpWildcardIpSpace&quot;,&quot;ipWildcard&quot;:&quot;218.8.104.59&quot;}}},{&quot;class&quot;:&quot;org.batfish.datamodel.acl.MatchHeaderSpace&quot;,&quot;headerSpace&quot;:{&quot;dstIps&quot;:{&quot;class&quot;:&quot;org.batfish.datamodel.IpWildcardIpSpace&quot;,&quot;ipWildcard&quot;:&quot;218.8.104.15&quot;},&quot;dstPorts&quot;:[&quot;179-179&quot;],&quot;ipProtocols&quot;:[&quot;TCP&quot;],&quot;negate&quot;:false,&quot;srcIps&quot;:{&quot;class&quot;:&quot;org.batfish.datamodel.IpWildcardIpSpace&quot;,&quot;ipWildcard&quot;:&quot;218.8.104.14&quot;}}},{&quot;class&quot;:&quot;org.batfish.datamodel.acl.MatchHeaderSpace&quot;,&quot;headerSpace&quot;:{&quot;dstIps&quot;:{&quot;class&quot;:&quot;org.batfish.datamodel.IpWildcardIpSpace&quot;,&quot;ipWildcard&quot;:&quot;218.8.104.15&quot;},&quot;icmpTypes&quot;:[&quot;0-0&quot;],&quot;ipProtocols&quot;:[&quot;ICMP&quot;],&quot;negate&quot;:false,&quot;srcIps&quot;:{&quot;class&quot;:&quot;org.batfish.datamodel.IpWildcardIpSpace&quot;,&quot;ipWildcard&quot;:&quot;218.8.104.14&quot;}}},{&quot;class&quot;:&quot;org.batfish.datamodel.acl.MatchHeaderSpace&quot;,&quot;headerSpace&quot;:{&quot;dstIps&quot;:{&quot;class&quot;:&quot;org.batfish.datamodel.IpWildcardIpSpace&quot;,&quot;ipWildcard&quot;:&quot;218.8.104.1&quot;},&quot;dstPorts&quot;:[&quot;179-179&quot;],&quot;ipProtocols&quot;:[&quot;TCP&quot;],&quot;negate&quot;:false,&quot;srcIps&quot;:{&quot;class&quot;:&quot;org.batfish.datamodel.IpWildcardIpSpace&quot;,&quot;ipWildcard&quot;:&quot;218.8.104.0&quot;}}},{&quot;class&quot;:&quot;org.batfish.datamodel.acl.MatchHeaderSpace&quot;,&quot;headerSpace&quot;:{&quot;dstIps&quot;:{&quot;class&quot;:&quot;org.batfish.datamodel.IpWildcardIpSpace&quot;,&quot;ipWildcard&quot;:&quot;218.8.104.1&quot;},&quot;icmpTypes&quot;:[&quot;0-0&quot;],&quot;ipProtocols&quot;:[&quot;ICMP&quot;],&quot;negate&quot;:false,&quot;srcIps&quot;:{&quot;class&quot;:&quot;org.batfish.datamodel.IpWildcardIpSpace&quot;,&quot;ipWildcard&quot;:&quot;218.8.104.0&quot;}}},{&quot;class&quot;:&quot;org.batfish.datamodel.acl.MatchHeaderSpace&quot;,&quot;headerSpace&quot;:{&quot;dstIps&quot;:{&quot;class&quot;:&quot;org.batfish.datamodel.IpWildcardIpSpace&quot;,&quot;ipWildcard&quot;:&quot;212.58.171.208&quot;},&quot;dstPorts&quot;:[&quot;179-179&quot;],&quot;ipProtocols&quot;:[&quot;TCP&quot;],&quot;negate&quot;:false,&quot;srcIps&quot;:{&quot;class&quot;:&quot;org.batfish.datamodel.IpWildcardIpSpace&quot;,&quot;ipWildcard&quot;:&quot;212.58.171.208&quot;}}},{&quot;class&quot;:&quot;org.batfish.datamodel.acl.MatchHeaderSpace&quot;,&quot;headerSpace&quot;:{&quot;dstIps&quot;:{&quot;class&quot;:&quot;org.batfish.datamodel.IpWildcardIpSpace&quot;,&quot;ipWildcard&quot;:&quot;205.248.59.67&quot;},&quot;dstPorts&quot;:[&quot;179-179&quot;],&quot;ipProtocols&quot;:[&quot;TCP&quot;],&quot;negate&quot;:false,&quot;srcIps&quot;:{&quot;class&quot;:&quot;org.batfish.datamodel.IpWildcardIpSpace&quot;,&quot;ipWildcard&quot;:&quot;205.248.59.64&quot;}}},{&quot;class&quot;:&quot;org.batfish.datamodel.acl.MatchHeaderSpace&quot;,&quot;headerSpace&quot;:{&quot;dstIps&quot;:{&quot;class&quot;:&quot;org.batfish.datamodel.IpWildcardIpSpace&quot;,&quot;ipWildcard&quot;:&quot;205.248.58.188&quot;},&quot;dstPorts&quot;:[&quot;179-179&quot;],&quot;ipProtocols&quot;:[&quot;TCP&quot;],&quot;negate&quot;:false,&quot;srcIps&quot;:{&quot;class&quot;:&quot;org.batfish.datamodel.IpWildcardIpSpace&quot;,&quot;ipWildcard&quot;:&quot;205.248.58.190&quot;}}},{&quot;class&quot;:&quot;org.batfish.datamodel.acl.MatchHeaderSpace&quot;,&quot;headerSpace&quot;:{&quot;dstIps&quot;:{&quot;class&quot;:&quot;org.batfish.datamodel.IpWildcardIpSpace&quot;,&quot;ipWildcard&quot;:&quot;205.248.57.173&quot;},&quot;dstPorts&quot;:[&quot;179-179&quot;],&quot;ipProtocols&quot;:[&quot;TCP&quot;],&quot;negate&quot;:false,&quot;srcIps&quot;:{&quot;class&quot;:&quot;org.batfish.datamodel.IpWildcardIpSpace&quot;,&quot;ipWildcard&quot;:&quot;205.248.57.174&quot;}}},{&quot;class&quot;:&quot;org.batfish.datamodel.acl.MatchHeaderSpace&quot;,&quot;headerSpace&quot;:{&quot;dstIps&quot;:{&quot;class&quot;:&quot;org.batfish.datamodel.IpWildcardIpSpace&quot;,&quot;ipWildcard&quot;:&quot;204.150.33.83&quot;},&quot;dstPorts&quot;:[&quot;179-179&quot;],&quot;ipProtocols&quot;:[&quot;TCP&quot;],&quot;negate&quot;:false,&quot;srcIps&quot;:{&quot;class&quot;:&quot;org.batfish.datamodel.IpWildcardIpSpace&quot;,&quot;ipWildcard&quot;:&quot;204.150.33.175&quot;}}},{&quot;class&quot;:&quot;org.batfish.datamodel.acl.MatchHeaderSpace&quot;,&quot;headerSpace&quot;:{&quot;dstIps&quot;:{&quot;class&quot;:&quot;org.batfish.datamodel.IpWildcardIpSpace&quot;,&quot;ipWildcard&quot;:&quot;117.186.185.0/24&quot;},&quot;dstPorts&quot;:[&quot;3785-3785&quot;],&quot;ipProtocols&quot;:[&quot;UDP&quot;],&quot;negate&quot;:false,&quot;srcIps&quot;:{&quot;class&quot;:&quot;org.batfish.datamodel.IpWildcardIpSpace&quot;,&quot;ipWildcard&quot;:&quot;117.186.185.0/24&quot;},&quot;srcPorts&quot;:[&quot;49152-65535&quot;]}},{&quot;class&quot;:&quot;org.batfish.datamodel.acl.MatchHeaderSpace&quot;,&quot;headerSpace&quot;:{&quot;dstIps&quot;:{&quot;class&quot;:&quot;org.batfish.datamodel.IpWildcardIpSpace&quot;,&quot;ipWildcard&quot;:&quot;117.186.185.0/24&quot;},&quot;dstPorts&quot;:[&quot;3784-3784&quot;],&quot;ipProtocols&quot;:[&quot;UDP&quot;],&quot;negate&quot;:false,&quot;srcIps&quot;:{&quot;class&quot;:&quot;org.batfish.datamodel.IpWildcardIpSpace&quot;,&quot;ipWildcard&quot;:&quot;117.186.185.0/24&quot;},&quot;srcPorts&quot;:[&quot;49152-65535&quot;]}},{&quot;class&quot;:&quot;org.batfish.datamodel.acl.MatchHeaderSpace&quot;,&quot;headerSpace&quot;:{&quot;dstIps&quot;:{&quot;class&quot;:&quot;org.batfish.datamodel.IpWildcardIpSpace&quot;,&quot;ipWildcard&quot;:&quot;112.104.108.154&quot;},&quot;dstPorts&quot;:[&quot;179-179&quot;],&quot;ipProtocols&quot;:[&quot;TCP&quot;],&quot;negate&quot;:false,&quot;srcIps&quot;:{&quot;class&quot;:&quot;org.batfish.datamodel.IpWildcardIpSpace&quot;,&quot;ipWildcard&quot;:&quot;112.104.108.152&quot;}}},{&quot;class&quot;:&quot;org.batfish.datamodel.acl.MatchHeaderSpace&quot;,&quot;headerSpace&quot;:{&quot;dstIps&quot;:{&quot;class&quot;:&quot;org.batfish.datamodel.IpWildcardIpSpace&quot;,&quot;ipWildcard&quot;:&quot;11.36.216.179&quot;},&quot;dstPorts&quot;:[&quot;179-179&quot;],&quot;ipProtocols&quot;:[&quot;TCP&quot;],&quot;negate&quot;:false,&quot;srcIps&quot;:{&quot;class&quot;:&quot;org.batfish.datamodel.IpWildcardIpSpace&quot;,&quot;ipWildcard&quot;:&quot;11.36.216.176&quot;}}},{&quot;class&quot;:&quot;org.batfish.datamodel.acl.MatchHeaderSpace&quot;,&quot;headerSpace&quot;:{&quot;dstIps&quot;:{&quot;class&quot;:&quot;org.batfish.datamodel.IpWildcardIpSpace&quot;,&quot;ipWildcard&quot;:&quot;11.36.216.169&quot;},&quot;dstPorts&quot;:[&quot;179-179&quot;],&quot;ipProtocols&quot;:[&quot;TCP&quot;],&quot;negate&quot;:false,&quot;srcIps&quot;:{&quot;class&quot;:&quot;org.batfish.datamodel.IpWildcardIpSpace&quot;,&quot;ipWildcard&quot;:&quot;11.36.216.170&quot;}}},{&quot;class&quot;:&quot;org.batfish.datamodel.acl.MatchHeaderSpace&quot;,&quot;headerSpace&quot;:{&quot;dstIps&quot;:{&quot;class&quot;:&quot;org.batfish.datamodel.IpWildcardIpSpace&quot;,&quot;ipWildcard&quot;:&quot;11.36.202.141&quot;},&quot;dstPorts&quot;:[&quot;179-179&quot;],&quot;ipProtocols&quot;:[&quot;TCP&quot;],&quot;negate&quot;:false,&quot;srcIps&quot;:{&quot;class&quot;:&quot;org.batfish.datamodel.IpWildcardIpSpace&quot;,&quot;ipWildcard&quot;:&quot;11.36.202.142&quot;}}},{&quot;class&quot;:&quot;org.batfish.datamodel.acl.MatchHeaderSpace&quot;,&quot;headerSpace&quot;:{&quot;dstIps&quot;:{&quot;class&quot;:&quot;org.batfish.datamodel.IpWildcardIpSpace&quot;,&quot;ipWildcard&quot;:&quot;11.36.202.139&quot;},&quot;dstPorts&quot;:[&quot;179-179&quot;],&quot;ipProtocols&quot;:[&quot;TCP&quot;],&quot;negate&quot;:false,&quot;srcIps&quot;:{&quot;class&quot;:&quot;org.batfish.datamodel.IpWildcardIpSpace&quot;,&quot;ipWildcard&quot;:&quot;11.36.202.137&quot;}}},{&quot;class&quot;:&quot;org.batfish.datamodel.acl.MatchHeaderSpace&quot;,&quot;headerSpace&quot;:{&quot;dstIps&quot;:{&quot;class&quot;:&quot;org.batfish.datamodel.IpWildcardIpSpace&quot;,&quot;ipWildcard&quot;:&quot;2.73.168.208&quot;},&quot;dstPorts&quot;:[&quot;179-179&quot;],&quot;ipProtocols&quot;:[&quot;TCP&quot;],&quot;negate&quot;:false,&quot;srcIps&quot;:{&quot;class&quot;:&quot;org.batfish.datamodel.IpWildcardIpSpace&quot;,&quot;ipWildcard&quot;:&quot;2.73.168.211&quot;}}}]}&#x27;</td> \n",
       "        <td id=\"T_pybfstylerow0_col3\" class=\"data row0 col3\" >Start Location: rtr-with-acl<br>Src IP: 0.0.0.0<br>Dst IP: 0.0.0.0<br>IP Protocol: ICMP</td> \n",
       "        <td id=\"T_pybfstylerow0_col4\" class=\"data row0 col4\" >&#x27;PERMIT&#x27;</td> \n",
       "        <td id=\"T_pybfstylerow0_col5\" class=\"data row0 col5\" >&#x27;1300 permit icmp any any echo-reply&#x27;</td> \n",
       "        <td id=\"T_pybfstylerow0_col6\" class=\"data row0 col6\" >AclTrace(events=[AclTraceEvent(class_name=&#x27;org.batfish.datamodel.acl.PermittedByIpAccessListLine&#x27;, description=&#x27;Flow permitted by extended ipv4 access-list named acl_in, index 66: 1300 permit icmp any any echo-reply&#x27;, lineDescription=&#x27;1300 permit icmp any any echo-reply&#x27;)])</td> \n",
       "    </tr></tbody> \n",
       "</table> "
      ],
      "text/plain": [
       "           Node Filter_Name  \\\n",
       "0  rtr-with-acl  acl_in       \n",
       "\n",
       "                                                                                                                                                                                                                                                                                                                                                                                                                                                                                                                                                                                                                                                                                                                                                                                                                                                                                                                                                                                                                                                                                                                                                                                                                                                                                                                                                                                                                                                                                                                                                                                                                                                                                                                                                                                                                                                                                                                                                                                                                                                                                                                                                                                                                                                                                                                                                                                                                                                                                                                                                                                                                                                                                                                                                                                                                                                                                                                                                                                                                                                                                                                                                                                                                                                                                                                                                                                                                                                                                                                                                                                                                                                                                                                                                                                                                                                                                                                                                                                                                                                                                                                                                                                                                                                                                                                                                                                                                                                                                                                                                                                                                                                                                                                                                                                                                                                                                                                                                                                                                                                                                                                                                                                                                                                                                                                                                                                                                                                                                                                                                                                                                                                                                                                                                                                                                                                                                                                                                                                                                                                                                                                                                                                                                                                                                                                                                                                                                                                                                                                                                                                                                                                                                                                                                                                                                                                                                                                                                                                                                                                                                                                                                                                                                                                                                                                                                                                                                                                                                                                                                                                                                                                                                                                                                                                                                                                                                                                                                                                                                                                                                                                                                                                                                                                                                                                                                                                                                                                                                                                                                                                                                                                                                                                                                                                                                                                                                                                                                                                                                                                                                                                                                                                                                                                                                                                                                                                                                                                                                                                                                                                                                                                                                                                                                                                                                                                                                                                                                                                                                                                                                                                                                                                                                                                                                                                                                                                                                                                                                                                                                                                                                                                                                                                                                                                                                                                                                                                                                                                                                                                                                                                                                                                                                                                                                                                                                                                                                                                                                                                                                                                                                                                                                                                                                                                                                                                                                                                                                                                                                                                                                                                                                                                                                                                                                                                                                                                                                                                                                                                                                                                                                                                                                                                                                                                                                                                                                                                                                                                                                                                                                                                                                                                                                                                                                                                                                                                                                                                                                                                                                                                                                                                                                                                                                                                                                                                                                                                                                                                                                                                                                                                                                                                                                                                                                                                                                                                                                                                                                                                                                                                                                                                                                                                                                                                                                                                                                                                                                                                                                                                                                                                                                                                                                                                                                                                                                                                                                                                                                                                                                                                                                                                                                                                                                                                                                                                                                                                                                                                                                                                                                                                                                                                                                                                                                                                                                                                                                                                                                                                                                                                                                                                                                                                                                                                                                                                                                                                                                                                                                                                                                                                                                                                                                                                                                                                                                                                                                                                                                                                                                                                                                                                                                                                                                                                                                                                                                                                                                                                                                                                                                                                                                                                                                                                                                                                                                                                                                                                                                                                                                                                                                                                                                                                                                                                                                                                                                                                                                                                                                                                                                                                                                                                                                                                                                                                                                                                                                                                                                                                                                                                                                                                                                                                                                                                                                                                                                                                                                                                                                                                                                                                                                                                                                                                                                                                                                                                                                                                                                                                                                                                                                                                                                                                                                                                                                                                                                                                                                                                                                                                                                                                                                                                                                                                                                                                                                                                                                                                                                                                                                                                                                                                                                                                                                                                                                                                                                                                                                                                                                                                                                                                                                                                                                                                                                                                                                                                                                                                                                                                                                                                                                                                                                                                                                                                                                                                                                                                                                                                                                                                                                                                                                                                                                                                                                                                                                                                                                                                                                                                                                                                                                                                                                                                                                                                                                                                                                                                                                                                                                                                                                                                                                                                                                                                                                                                                                                                                                                                                                                                                                                                                                                                                                                                                                                                                                                                                                                                                                                                                                                                                                                                                                                                                                                                                                                                                                                                                                                                                                                                                                                                                                                                                                                                                                                                                                                                                                                                                                                                                                                                                                                                                                                                                                                                                                                                                                                                                                                                                                                                                                                                                                                                                                                                                                                                                                                                                                                                                                                                                                                                                                                                                                                                                                                                                                                                                                                                                                                                                                                                                                                                                                                                                                                                                                                                                                                                                                                                                                                                                                                                                                                                                                                                                                                                                                                                                                                                                                                                                                                                                                                                                                                                                                                                                                                                                                                                                                                                                                                                                                                                                                                                                                                                                                                                                                                                                                                                                                                                                                                                                                                                                                                                                                                                                                                                                                                                                                                                                                                                                                                                                                                                                                                                                                                                                                                                                                                                                                                                                                                                                                                                                                                                                                                                                                                                                                                                                                                                                                                                                                                                                                                                                                                                                                                                                                                                                                                                                                                                                                                                                                                                                                                                                                                                                                                                                                                                                                                                                                                                                                                                                                                                                                                                                                                                                                                                                                                                                                                                                                                                                                                                                                                                                                                                                                                                                                                                                                                                                                                                                                                                                                                                                                                                                                                                                                                                                                                                                                                                                                                                                                                                                                                                                                                                                                                                                                                                                                                                                                                                                                                                                                                                                                                                                                                                                                                                                                                                                                                                                                                                                                                                                                                                                                                                                                                                                                                                                                                                                                                                                                                                                                                                                                                                                                                                                                                                                                                                                                                            Header_Space  \\\n",
       "0  {\"class\":\"org.batfish.datamodel.acl.OrMatchExpr\",\"disjuncts\":[{\"class\":\"org.batfish.datamodel.acl.AndMatchExpr\",\"conjuncts\":[{\"class\":\"org.batfish.datamodel.acl.MatchHeaderSpace\",\"headerSpace\":{\"dstIps\":{\"class\":\"org.batfish.datamodel.IpWildcardIpSpace\",\"ipWildcard\":\"0.0.0.0/0\"},\"icmpTypes\":[\"0-0\"],\"ipProtocols\":[\"ICMP\"],\"negate\":false,\"srcIps\":{\"class\":\"org.batfish.datamodel.IpWildcardIpSpace\",\"ipWildcard\":\"0.0.0.0/0\"}}},{\"class\":\"org.batfish.datamodel.acl.NotMatchExpr\",\"operand\":{\"class\":\"org.batfish.datamodel.acl.MatchHeaderSpace\",\"headerSpace\":{\"dstIps\":{\"class\":\"org.batfish.datamodel.IpWildcardIpSpace\",\"ipWildcard\":\"0.0.0.0/0\"},\"negate\":false,\"srcIps\":{\"class\":\"org.batfish.datamodel.IpWildcardIpSpace\",\"ipWildcard\":\"2.80.3.219\"}}}},{\"class\":\"org.batfish.datamodel.acl.NotMatchExpr\",\"operand\":{\"class\":\"org.batfish.datamodel.acl.MatchHeaderSpace\",\"headerSpace\":{\"dstIps\":{\"class\":\"org.batfish.datamodel.IpWildcardIpSpace\",\"ipWildcard\":\"0.0.0.0/0\"},\"negate\":false,\"srcIps\":{\"class\":\"org.batfish.datamodel.IpWildcardIpSpace\",\"ipWildcard\":\"8.89.120.0/22\"}}}},{\"class\":\"org.batfish.datamodel.acl.NotMatchExpr\",\"operand\":{\"class\":\"org.batfish.datamodel.acl.MatchHeaderSpace\",\"headerSpace\":{\"dstIps\":{\"class\":\"org.batfish.datamodel.IpWildcardIpSpace\",\"ipWildcard\":\"0.0.0.0/0\"},\"negate\":false,\"srcIps\":{\"class\":\"org.batfish.datamodel.IpWildcardIpSpace\",\"ipWildcard\":\"10.64.90.249\"}}}},{\"class\":\"org.batfish.datamodel.acl.NotMatchExpr\",\"operand\":{\"class\":\"org.batfish.datamodel.acl.MatchHeaderSpace\",\"headerSpace\":{\"dstIps\":{\"class\":\"org.batfish.datamodel.IpWildcardIpSpace\",\"ipWildcard\":\"0.0.0.0/0\"},\"negate\":false,\"srcIps\":{\"class\":\"org.batfish.datamodel.IpWildcardIpSpace\",\"ipWildcard\":\"11.36.192.0/19\"}}}},{\"class\":\"org.batfish.datamodel.acl.NotMatchExpr\",\"operand\":{\"class\":\"org.batfish.datamodel.acl.MatchHeaderSpace\",\"headerSpace\":{\"dstIps\":{\"class\":\"org.batfish.datamodel.IpWildcardIpSpace\",\"ipWildcard\":\"0.0.0.0/0\"},\"negate\":false,\"srcIps\":{\"class\":\"org.batfish.datamodel.IpWildcardIpSpace\",\"ipWildcard\":\"11.125.64.0/19\"}}}},{\"class\":\"org.batfish.datamodel.acl.NotMatchExpr\",\"operand\":{\"class\":\"org.batfish.datamodel.acl.MatchHeaderSpace\",\"headerSpace\":{\"dstIps\":{\"class\":\"org.batfish.datamodel.IpWildcardIpSpace\",\"ipWildcard\":\"0.0.0.0/0\"},\"negate\":false,\"srcIps\":{\"class\":\"org.batfish.datamodel.IpWildcardIpSpace\",\"ipWildcard\":\"27.212.145.150\"}}}},{\"class\":\"org.batfish.datamodel.acl.NotMatchExpr\",\"operand\":{\"class\":\"org.batfish.datamodel.acl.MatchHeaderSpace\",\"headerSpace\":{\"dstIps\":{\"class\":\"org.batfish.datamodel.IpWildcardIpSpace\",\"ipWildcard\":\"0.0.0.0/0\"},\"negate\":false,\"srcIps\":{\"class\":\"org.batfish.datamodel.IpWildcardIpSpace\",\"ipWildcard\":\"28.69.250.136\"}}}},{\"class\":\"org.batfish.datamodel.acl.NotMatchExpr\",\"operand\":{\"class\":\"org.batfish.datamodel.acl.MatchHeaderSpace\",\"headerSpace\":{\"dstIps\":{\"class\":\"org.batfish.datamodel.IpWildcardIpSpace\",\"ipWildcard\":\"0.0.0.0/0\"},\"negate\":false,\"srcIps\":{\"class\":\"org.batfish.datamodel.IpWildcardIpSpace\",\"ipWildcard\":\"29.228.179.210\"}}}},{\"class\":\"org.batfish.datamodel.acl.NotMatchExpr\",\"operand\":{\"class\":\"org.batfish.datamodel.acl.MatchHeaderSpace\",\"headerSpace\":{\"dstIps\":{\"class\":\"org.batfish.datamodel.IpWildcardIpSpace\",\"ipWildcard\":\"0.0.0.0/0\"},\"negate\":false,\"srcIps\":{\"class\":\"org.batfish.datamodel.IpWildcardIpSpace\",\"ipWildcard\":\"54.0.0.0/8\"}}}},{\"class\":\"org.batfish.datamodel.acl.NotMatchExpr\",\"operand\":{\"class\":\"org.batfish.datamodel.acl.MatchHeaderSpace\",\"headerSpace\":{\"dstIps\":{\"class\":\"org.batfish.datamodel.IpWildcardIpSpace\",\"ipWildcard\":\"0.0.0.0/0\"},\"negate\":false,\"srcIps\":{\"class\":\"org.batfish.datamodel.IpWildcardIpSpace\",\"ipWildcard\":\"118.0.0.0/8\"}}}},{\"class\":\"org.batfish.datamodel.acl.NotMatchExpr\",\"operand\":{\"class\":\"org.batfish.datamodel.acl.MatchHeaderSpace\",\"headerSpace\":{\"dstIps\":{\"class\":\"org.batfish.datamodel.IpWildcardIpSpace\",\"ipWildcard\":\"0.0.0.0/0\"},\"negate\":false,\"srcIps\":{\"class\":\"org.batfish.datamodel.IpWildcardIpSpace\",\"ipWildcard\":\"131.159.53.215\"}}}},{\"class\":\"org.batfish.datamodel.acl.NotMatchExpr\",\"operand\":{\"class\":\"org.batfish.datamodel.acl.MatchHeaderSpace\",\"headerSpace\":{\"dstIps\":{\"class\":\"org.batfish.datamodel.IpWildcardIpSpace\",\"ipWildcard\":\"0.0.0.0/0\"},\"negate\":false,\"srcIps\":{\"class\":\"org.batfish.datamodel.IpWildcardIpSpace\",\"ipWildcard\":\"144.49.45.40\"}}}},{\"class\":\"org.batfish.datamodel.acl.NotMatchExpr\",\"operand\":{\"class\":\"org.batfish.datamodel.acl.MatchHeaderSpace\",\"headerSpace\":{\"dstIps\":{\"class\":\"org.batfish.datamodel.IpWildcardIpSpace\",\"ipWildcard\":\"0.0.0.0/0\"},\"negate\":false,\"srcIps\":{\"class\":\"org.batfish.datamodel.IpWildcardIpSpace\",\"ipWildcard\":\"163.157.0.0/16\"}}}},{\"class\":\"org.batfish.datamodel.acl.NotMatchExpr\",\"operand\":{\"class\":\"org.batfish.datamodel.acl.MatchHeaderSpace\",\"headerSpace\":{\"dstIps\":{\"class\":\"org.batfish.datamodel.IpWildcardIpSpace\",\"ipWildcard\":\"0.0.0.0/0\"},\"negate\":false,\"srcIps\":{\"class\":\"org.batfish.datamodel.IpWildcardIpSpace\",\"ipWildcard\":\"163.255.18.63\"}}}},{\"class\":\"org.batfish.datamodel.acl.NotMatchExpr\",\"operand\":{\"class\":\"org.batfish.datamodel.acl.MatchHeaderSpace\",\"headerSpace\":{\"dstIps\":{\"class\":\"org.batfish.datamodel.IpWildcardIpSpace\",\"ipWildcard\":\"0.0.0.0/0\"},\"negate\":false,\"srcIps\":{\"class\":\"org.batfish.datamodel.IpWildcardIpSpace\",\"ipWildcard\":\"166.144.0.0/12\"}}}},{\"class\":\"org.batfish.datamodel.acl.NotMatchExpr\",\"operand\":{\"class\":\"org.batfish.datamodel.acl.MatchHeaderSpace\",\"headerSpace\":{\"dstIps\":{\"class\":\"org.batfish.datamodel.IpWildcardIpSpace\",\"ipWildcard\":\"0.0.0.0/0\"},\"negate\":false,\"srcIps\":{\"class\":\"org.batfish.datamodel.IpWildcardIpSpace\",\"ipWildcard\":\"194.181.135.214\"}}}},{\"class\":\"org.batfish.datamodel.acl.NotMatchExpr\",\"operand\":{\"class\":\"org.batfish.datamodel.acl.MatchHeaderSpace\",\"headerSpace\":{\"dstIps\":{\"class\":\"org.batfish.datamodel.IpWildcardIpSpace\",\"ipWildcard\":\"0.0.0.0/0\"},\"negate\":false,\"srcIps\":{\"class\":\"org.batfish.datamodel.IpWildcardIpSpace\",\"ipWildcard\":\"196.64.84.239\"}}}},{\"class\":\"org.batfish.datamodel.acl.NotMatchExpr\",\"operand\":{\"class\":\"org.batfish.datamodel.acl.MatchHeaderSpace\",\"headerSpace\":{\"dstIps\":{\"class\":\"org.batfish.datamodel.IpWildcardIpSpace\",\"ipWildcard\":\"0.0.0.0/0\"},\"negate\":false,\"srcIps\":{\"class\":\"org.batfish.datamodel.IpWildcardIpSpace\",\"ipWildcard\":\"198.120.0.0/16\"}}}},{\"class\":\"org.batfish.datamodel.acl.NotMatchExpr\",\"operand\":{\"class\":\"org.batfish.datamodel.acl.MatchHeaderSpace\",\"headerSpace\":{\"dstIps\":{\"class\":\"org.batfish.datamodel.IpWildcardIpSpace\",\"ipWildcard\":\"0.0.0.0/0\"},\"negate\":false,\"srcIps\":{\"class\":\"org.batfish.datamodel.IpWildcardIpSpace\",\"ipWildcard\":\"198.170.50.0/24\"}}}},{\"class\":\"org.batfish.datamodel.acl.NotMatchExpr\",\"operand\":{\"class\":\"org.batfish.datamodel.acl.MatchHeaderSpace\",\"headerSpace\":{\"dstIps\":{\"class\":\"org.batfish.datamodel.IpWildcardIpSpace\",\"ipWildcard\":\"0.0.0.0/0\"},\"negate\":false,\"srcIps\":{\"class\":\"org.batfish.datamodel.IpWildcardIpSpace\",\"ipWildcard\":\"200.45.87.238\"}}}},{\"class\":\"org.batfish.datamodel.acl.NotMatchExpr\",\"operand\":{\"class\":\"org.batfish.datamodel.acl.MatchHeaderSpace\",\"headerSpace\":{\"dstIps\":{\"class\":\"org.batfish.datamodel.IpWildcardIpSpace\",\"ipWildcard\":\"0.0.0.0/0\"},\"negate\":false,\"srcIps\":{\"class\":\"org.batfish.datamodel.IpWildcardIpSpace\",\"ipWildcard\":\"202.45.130.141\"}}}},{\"class\":\"org.batfish.datamodel.acl.NotMatchExpr\",\"operand\":{\"class\":\"org.batfish.datamodel.acl.MatchHeaderSpace\",\"headerSpace\":{\"dstIps\":{\"class\":\"org.batfish.datamodel.IpWildcardIpSpace\",\"ipWildcard\":\"0.0.0.0/0\"},\"negate\":false,\"srcIps\":{\"class\":\"org.batfish.datamodel.IpWildcardIpSpace\",\"ipWildcard\":\"207.70.46.217\"}}}},{\"class\":\"org.batfish.datamodel.acl.NotMatchExpr\",\"operand\":{\"class\":\"org.batfish.datamodel.acl.MatchHeaderSpace\",\"headerSpace\":{\"dstIps\":{\"class\":\"org.batfish.datamodel.IpWildcardIpSpace\",\"ipWildcard\":\"0.0.0.0/0\"},\"negate\":false,\"srcIps\":{\"class\":\"org.batfish.datamodel.IpWildcardIpSpace\",\"ipWildcard\":\"212.26.132.18\"}}}},{\"class\":\"org.batfish.datamodel.acl.NotMatchExpr\",\"operand\":{\"class\":\"org.batfish.datamodel.acl.MatchHeaderSpace\",\"headerSpace\":{\"dstIps\":{\"class\":\"org.batfish.datamodel.IpWildcardIpSpace\",\"ipWildcard\":\"0.0.0.0/0\"},\"negate\":false,\"srcIps\":{\"class\":\"org.batfish.datamodel.IpWildcardIpSpace\",\"ipWildcard\":\"214.220.213.107\"}}}},{\"class\":\"org.batfish.datamodel.acl.NotMatchExpr\",\"operand\":{\"class\":\"org.batfish.datamodel.acl.MatchHeaderSpace\",\"headerSpace\":{\"dstIps\":{\"class\":\"org.batfish.datamodel.IpWildcardIpSpace\",\"ipWildcard\":\"0.0.0.0/0\"},\"negate\":false,\"srcIps\":{\"class\":\"org.batfish.datamodel.IpWildcardIpSpace\",\"ipWildcard\":\"218.8.104.0/25\"}}}},{\"class\":\"org.batfish.datamodel.acl.NotMatchExpr\",\"operand\":{\"class\":\"org.batfish.datamodel.acl.MatchHeaderSpace\",\"headerSpace\":{\"dstIps\":{\"class\":\"org.batfish.datamodel.IpWildcardIpSpace\",\"ipWildcard\":\"0.0.0.0/0\"},\"negate\":false,\"srcIps\":{\"class\":\"org.batfish.datamodel.IpWildcardIpSpace\",\"ipWildcard\":\"218.8.106.128/25\"}}}},{\"class\":\"org.batfish.datamodel.acl.NotMatchExpr\",\"operand\":{\"class\":\"org.batfish.datamodel.acl.MatchHeaderSpace\",\"headerSpace\":{\"dstIps\":{\"class\":\"org.batfish.datamodel.IpWildcardIpSpace\",\"ipWildcard\":\"0.0.0.0/0\"},\"negate\":false,\"srcIps\":{\"class\":\"org.batfish.datamodel.IpWildcardIpSpace\",\"ipWildcard\":\"218.8.107.0/25\"}}}},{\"class\":\"org.batfish.datamodel.acl.NotMatchExpr\",\"operand\":{\"class\":\"org.batfish.datamodel.acl.MatchHeaderSpace\",\"headerSpace\":{\"dstIps\":{\"class\":\"org.batfish.datamodel.IpWildcardIpSpace\",\"ipWildcard\":\"0.0.0.0/0\"},\"negate\":false,\"srcIps\":{\"class\":\"org.batfish.datamodel.IpWildcardIpSpace\",\"ipWildcard\":\"218.66.51.0/24\"}}}},{\"class\":\"org.batfish.datamodel.acl.NotMatchExpr\",\"operand\":{\"class\":\"org.batfish.datamodel.acl.MatchHeaderSpace\",\"headerSpace\":{\"dstIps\":{\"class\":\"org.batfish.datamodel.IpWildcardIpSpace\",\"ipWildcard\":\"0.0.0.0/0\"},\"negate\":false,\"srcIps\":{\"class\":\"org.batfish.datamodel.IpWildcardIpSpace\",\"ipWildcard\":\"218.66.57.0/24\"}}}},{\"class\":\"org.batfish.datamodel.acl.NotMatchExpr\",\"operand\":{\"class\":\"org.batfish.datamodel.acl.MatchHeaderSpace\",\"headerSpace\":{\"dstIps\":{\"class\":\"org.batfish.datamodel.IpWildcardIpSpace\",\"ipWildcard\":\"0.0.0.0/0\"},\"negate\":false,\"srcIps\":{\"class\":\"org.batfish.datamodel.IpWildcardIpSpace\",\"ipWildcard\":\"218.67.46.0/23\"}}}},{\"class\":\"org.batfish.datamodel.acl.NotMatchExpr\",\"operand\":{\"class\":\"org.batfish.datamodel.acl.MatchHeaderSpace\",\"headerSpace\":{\"dstIps\":{\"class\":\"org.batfish.datamodel.IpWildcardIpSpace\",\"ipWildcard\":\"0.0.0.0/0\"},\"negate\":false,\"srcIps\":{\"class\":\"org.batfish.datamodel.IpWildcardIpSpace\",\"ipWildcard\":\"218.67.96.0/22\"}}}},{\"class\":\"org.batfish.datamodel.acl.NotMatchExpr\",\"operand\":{\"class\":\"org.batfish.datamodel.acl.MatchHeaderSpace\",\"headerSpace\":{\"dstIps\":{\"class\":\"org.batfish.datamodel.IpWildcardIpSpace\",\"ipWildcard\":\"0.0.0.0/0\"},\"negate\":false,\"srcIps\":{\"class\":\"org.batfish.datamodel.IpWildcardIpSpace\",\"ipWildcard\":\"218.67.213.0/24\"}}}},{\"class\":\"org.batfish.datamodel.acl.NotMatchExpr\",\"operand\":{\"class\":\"org.batfish.datamodel.acl.MatchHeaderSpace\",\"headerSpace\":{\"dstIps\":{\"class\":\"org.batfish.datamodel.IpWildcardIpSpace\",\"ipWildcard\":\"0.0.0.0/0\"},\"negate\":false,\"srcIps\":{\"class\":\"org.batfish.datamodel.IpWildcardIpSpace\",\"ipWildcard\":\"218.111.16.132\"}}}},{\"class\":\"org.batfish.datamodel.acl.NotMatchExpr\",\"operand\":{\"class\":\"org.batfish.datamodel.acl.MatchHeaderSpace\",\"headerSpace\":{\"dstIps\":{\"class\":\"org.batfish.datamodel.IpWildcardIpSpace\",\"ipWildcard\":\"0.0.0.0/0\"},\"negate\":false,\"srcIps\":{\"class\":\"org.batfish.datamodel.IpWildcardIpSpace\",\"ipWildcard\":\"218.246.165.90\"}}}},{\"class\":\"org.batfish.datamodel.acl.NotMatchExpr\",\"operand\":{\"class\":\"org.batfish.datamodel.acl.MatchHeaderSpace\",\"headerSpace\":{\"dstIps\":{\"class\":\"org.batfish.datamodel.IpWildcardIpSpace\",\"ipWildcard\":\"0.0.0.0/0\"},\"negate\":false,\"srcIps\":{\"class\":\"org.batfish.datamodel.IpWildcardIpSpace\",\"ipWildcard\":\"219.185.241.117\"}}}},{\"class\":\"org.batfish.datamodel.acl.NotMatchExpr\",\"operand\":{\"class\":\"org.batfish.datamodel.acl.MatchHeaderSpace\",\"headerSpace\":{\"dstIps\":{\"class\":\"org.batfish.datamodel.IpWildcardIpSpace\",\"ipWildcard\":\"0.0.0.0/0\"},\"negate\":false,\"srcIps\":{\"class\":\"org.batfish.datamodel.IpWildcardIpSpace\",\"ipWildcard\":\"224.0.0.0/3\"}}}},{\"class\":\"org.batfish.datamodel.acl.NotMatchExpr\",\"operand\":{\"class\":\"org.batfish.datamodel.acl.MatchHeaderSpace\",\"headerSpace\":{\"dstIps\":{\"class\":\"org.batfish.datamodel.IpWildcardIpSpace\",\"ipWildcard\":\"11.125.89.32/30\"},\"negate\":false,\"srcIps\":{\"class\":\"org.batfish.datamodel.IpWildcardIpSpace\",\"ipWildcard\":\"0.0.0.0/0\"}}}},{\"class\":\"org.batfish.datamodel.acl.NotMatchExpr\",\"operand\":{\"class\":\"org.batfish.datamodel.acl.MatchHeaderSpace\",\"headerSpace\":{\"dstIps\":{\"class\":\"org.batfish.datamodel.IpWildcardIpSpace\",\"ipWildcard\":\"11.125.89.180/30\"},\"negate\":false,\"srcIps\":{\"class\":\"org.batfish.datamodel.IpWildcardIpSpace\",\"ipWildcard\":\"0.0.0.0/0\"}}}},{\"class\":\"org.batfish.datamodel.acl.NotMatchExpr\",\"operand\":{\"class\":\"org.batfish.datamodel.acl.MatchHeaderSpace\",\"headerSpace\":{\"dstIps\":{\"class\":\"org.batfish.datamodel.IpWildcardIpSpace\",\"ipWildcard\":\"11.125.89.220/30\"},\"negate\":false,\"srcIps\":{\"class\":\"org.batfish.datamodel.IpWildcardIpSpace\",\"ipWildcard\":\"0.0.0.0/0\"}}}},{\"class\":\"org.batfish.datamodel.acl.NotMatchExpr\",\"operand\":{\"class\":\"org.batfish.datamodel.acl.MatchHeaderSpace\",\"headerSpace\":{\"dstIps\":{\"class\":\"org.batfish.datamodel.IpWildcardIpSpace\",\"ipWildcard\":\"11.125.89.232/30\"},\"negate\":false,\"srcIps\":{\"class\":\"org.batfish.datamodel.IpWildcardIpSpace\",\"ipWildcard\":\"0.0.0.0/0\"}}}}]},{\"class\":\"org.batfish.datamodel.acl.AndMatchExpr\",\"conjuncts\":[{\"class\":\"org.batfish.datamodel.acl.MatchHeaderSpace\",\"headerSpace\":{\"dstIps\":{\"class\":\"org.batfish.datamodel.IpWildcardIpSpace\",\"ipWildcard\":\"0.0.0.0/0\"},\"icmpCodes\":[\"0-0\"],\"icmpTypes\":[\"11-11\"],\"ipProtocols\":[\"ICMP\"],\"negate\":false,\"srcIps\":{\"class\":\"org.batfish.datamodel.IpWildcardIpSpace\",\"ipWildcard\":\"0.0.0.0/0\"}}},{\"class\":\"org.batfish.datamodel.acl.NotMatchExpr\",\"operand\":{\"class\":\"org.batfish.datamodel.acl.MatchHeaderSpace\",\"headerSpace\":{\"dstIps\":{\"class\":\"org.batfish.datamodel.IpWildcardIpSpace\",\"ipWildcard\":\"0.0.0.0/0\"},\"negate\":false,\"srcIps\":{\"class\":\"org.batfish.datamodel.IpWildcardIpSpace\",\"ipWildcard\":\"2.80.3.219\"}}}},{\"class\":\"org.batfish.datamodel.acl.NotMatchExpr\",\"operand\":{\"class\":\"org.batfish.datamodel.acl.MatchHeaderSpace\",\"headerSpace\":{\"dstIps\":{\"class\":\"org.batfish.datamodel.IpWildcardIpSpace\",\"ipWildcard\":\"0.0.0.0/0\"},\"negate\":false,\"srcIps\":{\"class\":\"org.batfish.datamodel.IpWildcardIpSpace\",\"ipWildcard\":\"8.89.120.0/22\"}}}},{\"class\":\"org.batfish.datamodel.acl.NotMatchExpr\",\"operand\":{\"class\":\"org.batfish.datamodel.acl.MatchHeaderSpace\",\"headerSpace\":{\"dstIps\":{\"class\":\"org.batfish.datamodel.IpWildcardIpSpace\",\"ipWildcard\":\"0.0.0.0/0\"},\"negate\":false,\"srcIps\":{\"class\":\"org.batfish.datamodel.IpWildcardIpSpace\",\"ipWildcard\":\"10.64.90.249\"}}}},{\"class\":\"org.batfish.datamodel.acl.NotMatchExpr\",\"operand\":{\"class\":\"org.batfish.datamodel.acl.MatchHeaderSpace\",\"headerSpace\":{\"dstIps\":{\"class\":\"org.batfish.datamodel.IpWildcardIpSpace\",\"ipWildcard\":\"0.0.0.0/0\"},\"negate\":false,\"srcIps\":{\"class\":\"org.batfish.datamodel.IpWildcardIpSpace\",\"ipWildcard\":\"11.36.192.0/19\"}}}},{\"class\":\"org.batfish.datamodel.acl.NotMatchExpr\",\"operand\":{\"class\":\"org.batfish.datamodel.acl.MatchHeaderSpace\",\"headerSpace\":{\"dstIps\":{\"class\":\"org.batfish.datamodel.IpWildcardIpSpace\",\"ipWildcard\":\"0.0.0.0/0\"},\"negate\":false,\"srcIps\":{\"class\":\"org.batfish.datamodel.IpWildcardIpSpace\",\"ipWildcard\":\"11.125.64.0/19\"}}}},{\"class\":\"org.batfish.datamodel.acl.NotMatchExpr\",\"operand\":{\"class\":\"org.batfish.datamodel.acl.MatchHeaderSpace\",\"headerSpace\":{\"dstIps\":{\"class\":\"org.batfish.datamodel.IpWildcardIpSpace\",\"ipWildcard\":\"0.0.0.0/0\"},\"negate\":false,\"srcIps\":{\"class\":\"org.batfish.datamodel.IpWildcardIpSpace\",\"ipWildcard\":\"27.212.145.150\"}}}},{\"class\":\"org.batfish.datamodel.acl.NotMatchExpr\",\"operand\":{\"class\":\"org.batfish.datamodel.acl.MatchHeaderSpace\",\"headerSpace\":{\"dstIps\":{\"class\":\"org.batfish.datamodel.IpWildcardIpSpace\",\"ipWildcard\":\"0.0.0.0/0\"},\"negate\":false,\"srcIps\":{\"class\":\"org.batfish.datamodel.IpWildcardIpSpace\",\"ipWildcard\":\"28.69.250.136\"}}}},{\"class\":\"org.batfish.datamodel.acl.NotMatchExpr\",\"operand\":{\"class\":\"org.batfish.datamodel.acl.MatchHeaderSpace\",\"headerSpace\":{\"dstIps\":{\"class\":\"org.batfish.datamodel.IpWildcardIpSpace\",\"ipWildcard\":\"0.0.0.0/0\"},\"negate\":false,\"srcIps\":{\"class\":\"org.batfish.datamodel.IpWildcardIpSpace\",\"ipWildcard\":\"29.228.179.210\"}}}},{\"class\":\"org.batfish.datamodel.acl.NotMatchExpr\",\"operand\":{\"class\":\"org.batfish.datamodel.acl.MatchHeaderSpace\",\"headerSpace\":{\"dstIps\":{\"class\":\"org.batfish.datamodel.IpWildcardIpSpace\",\"ipWildcard\":\"0.0.0.0/0\"},\"negate\":false,\"srcIps\":{\"class\":\"org.batfish.datamodel.IpWildcardIpSpace\",\"ipWildcard\":\"54.0.0.0/8\"}}}},{\"class\":\"org.batfish.datamodel.acl.NotMatchExpr\",\"operand\":{\"class\":\"org.batfish.datamodel.acl.MatchHeaderSpace\",\"headerSpace\":{\"dstIps\":{\"class\":\"org.batfish.datamodel.IpWildcardIpSpace\",\"ipWildcard\":\"0.0.0.0/0\"},\"negate\":false,\"srcIps\":{\"class\":\"org.batfish.datamodel.IpWildcardIpSpace\",\"ipWildcard\":\"118.0.0.0/8\"}}}},{\"class\":\"org.batfish.datamodel.acl.NotMatchExpr\",\"operand\":{\"class\":\"org.batfish.datamodel.acl.MatchHeaderSpace\",\"headerSpace\":{\"dstIps\":{\"class\":\"org.batfish.datamodel.IpWildcardIpSpace\",\"ipWildcard\":\"0.0.0.0/0\"},\"negate\":false,\"srcIps\":{\"class\":\"org.batfish.datamodel.IpWildcardIpSpace\",\"ipWildcard\":\"131.159.53.215\"}}}},{\"class\":\"org.batfish.datamodel.acl.NotMatchExpr\",\"operand\":{\"class\":\"org.batfish.datamodel.acl.MatchHeaderSpace\",\"headerSpace\":{\"dstIps\":{\"class\":\"org.batfish.datamodel.IpWildcardIpSpace\",\"ipWildcard\":\"0.0.0.0/0\"},\"negate\":false,\"srcIps\":{\"class\":\"org.batfish.datamodel.IpWildcardIpSpace\",\"ipWildcard\":\"144.49.45.40\"}}}},{\"class\":\"org.batfish.datamodel.acl.NotMatchExpr\",\"operand\":{\"class\":\"org.batfish.datamodel.acl.MatchHeaderSpace\",\"headerSpace\":{\"dstIps\":{\"class\":\"org.batfish.datamodel.IpWildcardIpSpace\",\"ipWildcard\":\"0.0.0.0/0\"},\"negate\":false,\"srcIps\":{\"class\":\"org.batfish.datamodel.IpWildcardIpSpace\",\"ipWildcard\":\"163.157.0.0/16\"}}}},{\"class\":\"org.batfish.datamodel.acl.NotMatchExpr\",\"operand\":{\"class\":\"org.batfish.datamodel.acl.MatchHeaderSpace\",\"headerSpace\":{\"dstIps\":{\"class\":\"org.batfish.datamodel.IpWildcardIpSpace\",\"ipWildcard\":\"0.0.0.0/0\"},\"negate\":false,\"srcIps\":{\"class\":\"org.batfish.datamodel.IpWildcardIpSpace\",\"ipWildcard\":\"163.255.18.63\"}}}},{\"class\":\"org.batfish.datamodel.acl.NotMatchExpr\",\"operand\":{\"class\":\"org.batfish.datamodel.acl.MatchHeaderSpace\",\"headerSpace\":{\"dstIps\":{\"class\":\"org.batfish.datamodel.IpWildcardIpSpace\",\"ipWildcard\":\"0.0.0.0/0\"},\"negate\":false,\"srcIps\":{\"class\":\"org.batfish.datamodel.IpWildcardIpSpace\",\"ipWildcard\":\"166.144.0.0/12\"}}}},{\"class\":\"org.batfish.datamodel.acl.NotMatchExpr\",\"operand\":{\"class\":\"org.batfish.datamodel.acl.MatchHeaderSpace\",\"headerSpace\":{\"dstIps\":{\"class\":\"org.batfish.datamodel.IpWildcardIpSpace\",\"ipWildcard\":\"0.0.0.0/0\"},\"negate\":false,\"srcIps\":{\"class\":\"org.batfish.datamodel.IpWildcardIpSpace\",\"ipWildcard\":\"194.181.135.214\"}}}},{\"class\":\"org.batfish.datamodel.acl.NotMatchExpr\",\"operand\":{\"class\":\"org.batfish.datamodel.acl.MatchHeaderSpace\",\"headerSpace\":{\"dstIps\":{\"class\":\"org.batfish.datamodel.IpWildcardIpSpace\",\"ipWildcard\":\"0.0.0.0/0\"},\"negate\":false,\"srcIps\":{\"class\":\"org.batfish.datamodel.IpWildcardIpSpace\",\"ipWildcard\":\"196.64.84.239\"}}}},{\"class\":\"org.batfish.datamodel.acl.NotMatchExpr\",\"operand\":{\"class\":\"org.batfish.datamodel.acl.MatchHeaderSpace\",\"headerSpace\":{\"dstIps\":{\"class\":\"org.batfish.datamodel.IpWildcardIpSpace\",\"ipWildcard\":\"0.0.0.0/0\"},\"negate\":false,\"srcIps\":{\"class\":\"org.batfish.datamodel.IpWildcardIpSpace\",\"ipWildcard\":\"198.120.0.0/16\"}}}},{\"class\":\"org.batfish.datamodel.acl.NotMatchExpr\",\"operand\":{\"class\":\"org.batfish.datamodel.acl.MatchHeaderSpace\",\"headerSpace\":{\"dstIps\":{\"class\":\"org.batfish.datamodel.IpWildcardIpSpace\",\"ipWildcard\":\"0.0.0.0/0\"},\"negate\":false,\"srcIps\":{\"class\":\"org.batfish.datamodel.IpWildcardIpSpace\",\"ipWildcard\":\"198.170.50.0/24\"}}}},{\"class\":\"org.batfish.datamodel.acl.NotMatchExpr\",\"operand\":{\"class\":\"org.batfish.datamodel.acl.MatchHeaderSpace\",\"headerSpace\":{\"dstIps\":{\"class\":\"org.batfish.datamodel.IpWildcardIpSpace\",\"ipWildcard\":\"0.0.0.0/0\"},\"negate\":false,\"srcIps\":{\"class\":\"org.batfish.datamodel.IpWildcardIpSpace\",\"ipWildcard\":\"200.45.87.238\"}}}},{\"class\":\"org.batfish.datamodel.acl.NotMatchExpr\",\"operand\":{\"class\":\"org.batfish.datamodel.acl.MatchHeaderSpace\",\"headerSpace\":{\"dstIps\":{\"class\":\"org.batfish.datamodel.IpWildcardIpSpace\",\"ipWildcard\":\"0.0.0.0/0\"},\"negate\":false,\"srcIps\":{\"class\":\"org.batfish.datamodel.IpWildcardIpSpace\",\"ipWildcard\":\"202.45.130.141\"}}}},{\"class\":\"org.batfish.datamodel.acl.NotMatchExpr\",\"operand\":{\"class\":\"org.batfish.datamodel.acl.MatchHeaderSpace\",\"headerSpace\":{\"dstIps\":{\"class\":\"org.batfish.datamodel.IpWildcardIpSpace\",\"ipWildcard\":\"0.0.0.0/0\"},\"negate\":false,\"srcIps\":{\"class\":\"org.batfish.datamodel.IpWildcardIpSpace\",\"ipWildcard\":\"207.70.46.217\"}}}},{\"class\":\"org.batfish.datamodel.acl.NotMatchExpr\",\"operand\":{\"class\":\"org.batfish.datamodel.acl.MatchHeaderSpace\",\"headerSpace\":{\"dstIps\":{\"class\":\"org.batfish.datamodel.IpWildcardIpSpace\",\"ipWildcard\":\"0.0.0.0/0\"},\"negate\":false,\"srcIps\":{\"class\":\"org.batfish.datamodel.IpWildcardIpSpace\",\"ipWildcard\":\"212.26.132.18\"}}}},{\"class\":\"org.batfish.datamodel.acl.NotMatchExpr\",\"operand\":{\"class\":\"org.batfish.datamodel.acl.MatchHeaderSpace\",\"headerSpace\":{\"dstIps\":{\"class\":\"org.batfish.datamodel.IpWildcardIpSpace\",\"ipWildcard\":\"0.0.0.0/0\"},\"negate\":false,\"srcIps\":{\"class\":\"org.batfish.datamodel.IpWildcardIpSpace\",\"ipWildcard\":\"214.220.213.107\"}}}},{\"class\":\"org.batfish.datamodel.acl.NotMatchExpr\",\"operand\":{\"class\":\"org.batfish.datamodel.acl.MatchHeaderSpace\",\"headerSpace\":{\"dstIps\":{\"class\":\"org.batfish.datamodel.IpWildcardIpSpace\",\"ipWildcard\":\"0.0.0.0/0\"},\"negate\":false,\"srcIps\":{\"class\":\"org.batfish.datamodel.IpWildcardIpSpace\",\"ipWildcard\":\"218.8.104.0/25\"}}}},{\"class\":\"org.batfish.datamodel.acl.NotMatchExpr\",\"operand\":{\"class\":\"org.batfish.datamodel.acl.MatchHeaderSpace\",\"headerSpace\":{\"dstIps\":{\"class\":\"org.batfish.datamodel.IpWildcardIpSpace\",\"ipWildcard\":\"0.0.0.0/0\"},\"negate\":false,\"srcIps\":{\"class\":\"org.batfish.datamodel.IpWildcardIpSpace\",\"ipWildcard\":\"218.8.106.128/25\"}}}},{\"class\":\"org.batfish.datamodel.acl.NotMatchExpr\",\"operand\":{\"class\":\"org.batfish.datamodel.acl.MatchHeaderSpace\",\"headerSpace\":{\"dstIps\":{\"class\":\"org.batfish.datamodel.IpWildcardIpSpace\",\"ipWildcard\":\"0.0.0.0/0\"},\"negate\":false,\"srcIps\":{\"class\":\"org.batfish.datamodel.IpWildcardIpSpace\",\"ipWildcard\":\"218.8.107.0/25\"}}}},{\"class\":\"org.batfish.datamodel.acl.NotMatchExpr\",\"operand\":{\"class\":\"org.batfish.datamodel.acl.MatchHeaderSpace\",\"headerSpace\":{\"dstIps\":{\"class\":\"org.batfish.datamodel.IpWildcardIpSpace\",\"ipWildcard\":\"0.0.0.0/0\"},\"negate\":false,\"srcIps\":{\"class\":\"org.batfish.datamodel.IpWildcardIpSpace\",\"ipWildcard\":\"218.66.51.0/24\"}}}},{\"class\":\"org.batfish.datamodel.acl.NotMatchExpr\",\"operand\":{\"class\":\"org.batfish.datamodel.acl.MatchHeaderSpace\",\"headerSpace\":{\"dstIps\":{\"class\":\"org.batfish.datamodel.IpWildcardIpSpace\",\"ipWildcard\":\"0.0.0.0/0\"},\"negate\":false,\"srcIps\":{\"class\":\"org.batfish.datamodel.IpWildcardIpSpace\",\"ipWildcard\":\"218.66.57.0/24\"}}}},{\"class\":\"org.batfish.datamodel.acl.NotMatchExpr\",\"operand\":{\"class\":\"org.batfish.datamodel.acl.MatchHeaderSpace\",\"headerSpace\":{\"dstIps\":{\"class\":\"org.batfish.datamodel.IpWildcardIpSpace\",\"ipWildcard\":\"0.0.0.0/0\"},\"negate\":false,\"srcIps\":{\"class\":\"org.batfish.datamodel.IpWildcardIpSpace\",\"ipWildcard\":\"218.67.46.0/23\"}}}},{\"class\":\"org.batfish.datamodel.acl.NotMatchExpr\",\"operand\":{\"class\":\"org.batfish.datamodel.acl.MatchHeaderSpace\",\"headerSpace\":{\"dstIps\":{\"class\":\"org.batfish.datamodel.IpWildcardIpSpace\",\"ipWildcard\":\"0.0.0.0/0\"},\"negate\":false,\"srcIps\":{\"class\":\"org.batfish.datamodel.IpWildcardIpSpace\",\"ipWildcard\":\"218.67.96.0/22\"}}}},{\"class\":\"org.batfish.datamodel.acl.NotMatchExpr\",\"operand\":{\"class\":\"org.batfish.datamodel.acl.MatchHeaderSpace\",\"headerSpace\":{\"dstIps\":{\"class\":\"org.batfish.datamodel.IpWildcardIpSpace\",\"ipWildcard\":\"0.0.0.0/0\"},\"negate\":false,\"srcIps\":{\"class\":\"org.batfish.datamodel.IpWildcardIpSpace\",\"ipWildcard\":\"218.67.213.0/24\"}}}},{\"class\":\"org.batfish.datamodel.acl.NotMatchExpr\",\"operand\":{\"class\":\"org.batfish.datamodel.acl.MatchHeaderSpace\",\"headerSpace\":{\"dstIps\":{\"class\":\"org.batfish.datamodel.IpWildcardIpSpace\",\"ipWildcard\":\"0.0.0.0/0\"},\"negate\":false,\"srcIps\":{\"class\":\"org.batfish.datamodel.IpWildcardIpSpace\",\"ipWildcard\":\"218.111.16.132\"}}}},{\"class\":\"org.batfish.datamodel.acl.NotMatchExpr\",\"operand\":{\"class\":\"org.batfish.datamodel.acl.MatchHeaderSpace\",\"headerSpace\":{\"dstIps\":{\"class\":\"org.batfish.datamodel.IpWildcardIpSpace\",\"ipWildcard\":\"0.0.0.0/0\"},\"negate\":false,\"srcIps\":{\"class\":\"org.batfish.datamodel.IpWildcardIpSpace\",\"ipWildcard\":\"218.246.165.90\"}}}},{\"class\":\"org.batfish.datamodel.acl.NotMatchExpr\",\"operand\":{\"class\":\"org.batfish.datamodel.acl.MatchHeaderSpace\",\"headerSpace\":{\"dstIps\":{\"class\":\"org.batfish.datamodel.IpWildcardIpSpace\",\"ipWildcard\":\"0.0.0.0/0\"},\"negate\":false,\"srcIps\":{\"class\":\"org.batfish.datamodel.IpWildcardIpSpace\",\"ipWildcard\":\"219.185.241.117\"}}}},{\"class\":\"org.batfish.datamodel.acl.NotMatchExpr\",\"operand\":{\"class\":\"org.batfish.datamodel.acl.MatchHeaderSpace\",\"headerSpace\":{\"dstIps\":{\"class\":\"org.batfish.datamodel.IpWildcardIpSpace\",\"ipWildcard\":\"0.0.0.0/0\"},\"negate\":false,\"srcIps\":{\"class\":\"org.batfish.datamodel.IpWildcardIpSpace\",\"ipWildcard\":\"224.0.0.0/3\"}}}},{\"class\":\"org.batfish.datamodel.acl.NotMatchExpr\",\"operand\":{\"class\":\"org.batfish.datamodel.acl.MatchHeaderSpace\",\"headerSpace\":{\"dstIps\":{\"class\":\"org.batfish.datamodel.IpWildcardIpSpace\",\"ipWildcard\":\"11.125.89.32/30\"},\"negate\":false,\"srcIps\":{\"class\":\"org.batfish.datamodel.IpWildcardIpSpace\",\"ipWildcard\":\"0.0.0.0/0\"}}}},{\"class\":\"org.batfish.datamodel.acl.NotMatchExpr\",\"operand\":{\"class\":\"org.batfish.datamodel.acl.MatchHeaderSpace\",\"headerSpace\":{\"dstIps\":{\"class\":\"org.batfish.datamodel.IpWildcardIpSpace\",\"ipWildcard\":\"11.125.89.180/30\"},\"negate\":false,\"srcIps\":{\"class\":\"org.batfish.datamodel.IpWildcardIpSpace\",\"ipWildcard\":\"0.0.0.0/0\"}}}},{\"class\":\"org.batfish.datamodel.acl.NotMatchExpr\",\"operand\":{\"class\":\"org.batfish.datamodel.acl.MatchHeaderSpace\",\"headerSpace\":{\"dstIps\":{\"class\":\"org.batfish.datamodel.IpWildcardIpSpace\",\"ipWildcard\":\"11.125.89.220/30\"},\"negate\":false,\"srcIps\":{\"class\":\"org.batfish.datamodel.IpWildcardIpSpace\",\"ipWildcard\":\"0.0.0.0/0\"}}}},{\"class\":\"org.batfish.datamodel.acl.NotMatchExpr\",\"operand\":{\"class\":\"org.batfish.datamodel.acl.MatchHeaderSpace\",\"headerSpace\":{\"dstIps\":{\"class\":\"org.batfish.datamodel.IpWildcardIpSpace\",\"ipWildcard\":\"11.125.89.232/30\"},\"negate\":false,\"srcIps\":{\"class\":\"org.batfish.datamodel.IpWildcardIpSpace\",\"ipWildcard\":\"0.0.0.0/0\"}}}}]},{\"class\":\"org.batfish.datamodel.acl.AndMatchExpr\",\"conjuncts\":[{\"class\":\"org.batfish.datamodel.acl.MatchHeaderSpace\",\"headerSpace\":{\"dstIps\":{\"class\":\"org.batfish.datamodel.IpWildcardIpSpace\",\"ipWildcard\":\"218.8.104.58\"},\"dstPorts\":[\"53-53\"],\"ipProtocols\":[\"UDP\"],\"negate\":false,\"srcIps\":{\"class\":\"org.batfish.datamodel.IpWildcardIpSpace\",\"ipWildcard\":\"10.10.10.0/24\"}}},{\"class\":\"org.batfish.datamodel.acl.NotMatchExpr\",\"operand\":{\"class\":\"org.batfish.datamodel.acl.MatchHeaderSpace\",\"headerSpace\":{\"dstIps\":{\"class\":\"org.batfish.datamodel.IpWildcardIpSpace\",\"ipWildcard\":\"218.8.104.58\"},\"dstPorts\":[\"53-53\"],\"ipProtocols\":[\"UDP\"],\"negate\":false,\"srcIps\":{\"class\":\"org.batfish.datamodel.IpWildcardIpSpace\",\"ipWildcard\":\"10.10.10.42\"}}}}]},{\"class\":\"org.batfish.datamodel.acl.MatchHeaderSpace\",\"headerSpace\":{\"dstIps\":{\"class\":\"org.batfish.datamodel.IpWildcardIpSpace\",\"ipWildcard\":\"218.8.104.63\"},\"dstPorts\":[\"179-179\"],\"ipProtocols\":[\"TCP\"],\"negate\":false,\"srcIps\":{\"class\":\"org.batfish.datamodel.IpWildcardIpSpace\",\"ipWildcard\":\"218.8.104.62\"}}},{\"class\":\"org.batfish.datamodel.acl.MatchHeaderSpace\",\"headerSpace\":{\"dstIps\":{\"class\":\"org.batfish.datamodel.IpWildcardIpSpace\",\"ipWildcard\":\"218.8.104.63\"},\"icmpTypes\":[\"0-0\"],\"ipProtocols\":[\"ICMP\"],\"negate\":false,\"srcIps\":{\"class\":\"org.batfish.datamodel.IpWildcardIpSpace\",\"ipWildcard\":\"218.8.104.62\"}}},{\"class\":\"org.batfish.datamodel.acl.MatchHeaderSpace\",\"headerSpace\":{\"dstIps\":{\"class\":\"org.batfish.datamodel.IpWildcardIpSpace\",\"ipWildcard\":\"218.8.104.58\"},\"dstPorts\":[\"179-179\"],\"ipProtocols\":[\"TCP\"],\"negate\":false,\"srcIps\":{\"class\":\"org.batfish.datamodel.IpWildcardIpSpace\",\"ipWildcard\":\"218.8.104.59\"}}},{\"class\":\"org.batfish.datamodel.acl.MatchHeaderSpace\",\"headerSpace\":{\"dstIps\":{\"class\":\"org.batfish.datamodel.IpWildcardIpSpace\",\"ipWildcard\":\"218.8.104.58\"},\"icmpTypes\":[\"0-0\"],\"ipProtocols\":[\"ICMP\"],\"negate\":false,\"srcIps\":{\"class\":\"org.batfish.datamodel.IpWildcardIpSpace\",\"ipWildcard\":\"218.8.104.59\"}}},{\"class\":\"org.batfish.datamodel.acl.MatchHeaderSpace\",\"headerSpace\":{\"dstIps\":{\"class\":\"org.batfish.datamodel.IpWildcardIpSpace\",\"ipWildcard\":\"218.8.104.15\"},\"dstPorts\":[\"179-179\"],\"ipProtocols\":[\"TCP\"],\"negate\":false,\"srcIps\":{\"class\":\"org.batfish.datamodel.IpWildcardIpSpace\",\"ipWildcard\":\"218.8.104.14\"}}},{\"class\":\"org.batfish.datamodel.acl.MatchHeaderSpace\",\"headerSpace\":{\"dstIps\":{\"class\":\"org.batfish.datamodel.IpWildcardIpSpace\",\"ipWildcard\":\"218.8.104.15\"},\"icmpTypes\":[\"0-0\"],\"ipProtocols\":[\"ICMP\"],\"negate\":false,\"srcIps\":{\"class\":\"org.batfish.datamodel.IpWildcardIpSpace\",\"ipWildcard\":\"218.8.104.14\"}}},{\"class\":\"org.batfish.datamodel.acl.MatchHeaderSpace\",\"headerSpace\":{\"dstIps\":{\"class\":\"org.batfish.datamodel.IpWildcardIpSpace\",\"ipWildcard\":\"218.8.104.1\"},\"dstPorts\":[\"179-179\"],\"ipProtocols\":[\"TCP\"],\"negate\":false,\"srcIps\":{\"class\":\"org.batfish.datamodel.IpWildcardIpSpace\",\"ipWildcard\":\"218.8.104.0\"}}},{\"class\":\"org.batfish.datamodel.acl.MatchHeaderSpace\",\"headerSpace\":{\"dstIps\":{\"class\":\"org.batfish.datamodel.IpWildcardIpSpace\",\"ipWildcard\":\"218.8.104.1\"},\"icmpTypes\":[\"0-0\"],\"ipProtocols\":[\"ICMP\"],\"negate\":false,\"srcIps\":{\"class\":\"org.batfish.datamodel.IpWildcardIpSpace\",\"ipWildcard\":\"218.8.104.0\"}}},{\"class\":\"org.batfish.datamodel.acl.MatchHeaderSpace\",\"headerSpace\":{\"dstIps\":{\"class\":\"org.batfish.datamodel.IpWildcardIpSpace\",\"ipWildcard\":\"212.58.171.208\"},\"dstPorts\":[\"179-179\"],\"ipProtocols\":[\"TCP\"],\"negate\":false,\"srcIps\":{\"class\":\"org.batfish.datamodel.IpWildcardIpSpace\",\"ipWildcard\":\"212.58.171.208\"}}},{\"class\":\"org.batfish.datamodel.acl.MatchHeaderSpace\",\"headerSpace\":{\"dstIps\":{\"class\":\"org.batfish.datamodel.IpWildcardIpSpace\",\"ipWildcard\":\"205.248.59.67\"},\"dstPorts\":[\"179-179\"],\"ipProtocols\":[\"TCP\"],\"negate\":false,\"srcIps\":{\"class\":\"org.batfish.datamodel.IpWildcardIpSpace\",\"ipWildcard\":\"205.248.59.64\"}}},{\"class\":\"org.batfish.datamodel.acl.MatchHeaderSpace\",\"headerSpace\":{\"dstIps\":{\"class\":\"org.batfish.datamodel.IpWildcardIpSpace\",\"ipWildcard\":\"205.248.58.188\"},\"dstPorts\":[\"179-179\"],\"ipProtocols\":[\"TCP\"],\"negate\":false,\"srcIps\":{\"class\":\"org.batfish.datamodel.IpWildcardIpSpace\",\"ipWildcard\":\"205.248.58.190\"}}},{\"class\":\"org.batfish.datamodel.acl.MatchHeaderSpace\",\"headerSpace\":{\"dstIps\":{\"class\":\"org.batfish.datamodel.IpWildcardIpSpace\",\"ipWildcard\":\"205.248.57.173\"},\"dstPorts\":[\"179-179\"],\"ipProtocols\":[\"TCP\"],\"negate\":false,\"srcIps\":{\"class\":\"org.batfish.datamodel.IpWildcardIpSpace\",\"ipWildcard\":\"205.248.57.174\"}}},{\"class\":\"org.batfish.datamodel.acl.MatchHeaderSpace\",\"headerSpace\":{\"dstIps\":{\"class\":\"org.batfish.datamodel.IpWildcardIpSpace\",\"ipWildcard\":\"204.150.33.83\"},\"dstPorts\":[\"179-179\"],\"ipProtocols\":[\"TCP\"],\"negate\":false,\"srcIps\":{\"class\":\"org.batfish.datamodel.IpWildcardIpSpace\",\"ipWildcard\":\"204.150.33.175\"}}},{\"class\":\"org.batfish.datamodel.acl.MatchHeaderSpace\",\"headerSpace\":{\"dstIps\":{\"class\":\"org.batfish.datamodel.IpWildcardIpSpace\",\"ipWildcard\":\"117.186.185.0/24\"},\"dstPorts\":[\"3785-3785\"],\"ipProtocols\":[\"UDP\"],\"negate\":false,\"srcIps\":{\"class\":\"org.batfish.datamodel.IpWildcardIpSpace\",\"ipWildcard\":\"117.186.185.0/24\"},\"srcPorts\":[\"49152-65535\"]}},{\"class\":\"org.batfish.datamodel.acl.MatchHeaderSpace\",\"headerSpace\":{\"dstIps\":{\"class\":\"org.batfish.datamodel.IpWildcardIpSpace\",\"ipWildcard\":\"117.186.185.0/24\"},\"dstPorts\":[\"3784-3784\"],\"ipProtocols\":[\"UDP\"],\"negate\":false,\"srcIps\":{\"class\":\"org.batfish.datamodel.IpWildcardIpSpace\",\"ipWildcard\":\"117.186.185.0/24\"},\"srcPorts\":[\"49152-65535\"]}},{\"class\":\"org.batfish.datamodel.acl.MatchHeaderSpace\",\"headerSpace\":{\"dstIps\":{\"class\":\"org.batfish.datamodel.IpWildcardIpSpace\",\"ipWildcard\":\"112.104.108.154\"},\"dstPorts\":[\"179-179\"],\"ipProtocols\":[\"TCP\"],\"negate\":false,\"srcIps\":{\"class\":\"org.batfish.datamodel.IpWildcardIpSpace\",\"ipWildcard\":\"112.104.108.152\"}}},{\"class\":\"org.batfish.datamodel.acl.MatchHeaderSpace\",\"headerSpace\":{\"dstIps\":{\"class\":\"org.batfish.datamodel.IpWildcardIpSpace\",\"ipWildcard\":\"11.36.216.179\"},\"dstPorts\":[\"179-179\"],\"ipProtocols\":[\"TCP\"],\"negate\":false,\"srcIps\":{\"class\":\"org.batfish.datamodel.IpWildcardIpSpace\",\"ipWildcard\":\"11.36.216.176\"}}},{\"class\":\"org.batfish.datamodel.acl.MatchHeaderSpace\",\"headerSpace\":{\"dstIps\":{\"class\":\"org.batfish.datamodel.IpWildcardIpSpace\",\"ipWildcard\":\"11.36.216.169\"},\"dstPorts\":[\"179-179\"],\"ipProtocols\":[\"TCP\"],\"negate\":false,\"srcIps\":{\"class\":\"org.batfish.datamodel.IpWildcardIpSpace\",\"ipWildcard\":\"11.36.216.170\"}}},{\"class\":\"org.batfish.datamodel.acl.MatchHeaderSpace\",\"headerSpace\":{\"dstIps\":{\"class\":\"org.batfish.datamodel.IpWildcardIpSpace\",\"ipWildcard\":\"11.36.202.141\"},\"dstPorts\":[\"179-179\"],\"ipProtocols\":[\"TCP\"],\"negate\":false,\"srcIps\":{\"class\":\"org.batfish.datamodel.IpWildcardIpSpace\",\"ipWildcard\":\"11.36.202.142\"}}},{\"class\":\"org.batfish.datamodel.acl.MatchHeaderSpace\",\"headerSpace\":{\"dstIps\":{\"class\":\"org.batfish.datamodel.IpWildcardIpSpace\",\"ipWildcard\":\"11.36.202.139\"},\"dstPorts\":[\"179-179\"],\"ipProtocols\":[\"TCP\"],\"negate\":false,\"srcIps\":{\"class\":\"org.batfish.datamodel.IpWildcardIpSpace\",\"ipWildcard\":\"11.36.202.137\"}}},{\"class\":\"org.batfish.datamodel.acl.MatchHeaderSpace\",\"headerSpace\":{\"dstIps\":{\"class\":\"org.batfish.datamodel.IpWildcardIpSpace\",\"ipWildcard\":\"2.73.168.208\"},\"dstPorts\":[\"179-179\"],\"ipProtocols\":[\"TCP\"],\"negate\":false,\"srcIps\":{\"class\":\"org.batfish.datamodel.IpWildcardIpSpace\",\"ipWildcard\":\"2.73.168.211\"}}}]}   \n",
       "\n",
       "                                         Flow  Action  \\\n",
       "0  start=rtr-with-acl [0.0.0.0->0.0.0.0 ICMP]  PERMIT   \n",
       "\n",
       "                          Line_Content  \\\n",
       "0  1300 permit icmp any any echo-reply   \n",
       "\n",
       "                                                                                                     Trace  \n",
       "0  Flow permitted by extended ipv4 access-list named acl_in, index 66: 1300 permit icmp any any echo-reply  "
      ]
     },
     "metadata": {},
     "output_type": "display_data"
    }
   ],
   "source": [
    "# Check if the subnet can reach the DNS server\n",
    "dns_traffic = HeaderConstraints(srcIps=\"10.10.10.0/24\",\n",
    "                                dstIps=\"218.8.104.58\",\n",
    "                                applications=[\"dns\"])\n",
    "answer = bfq.searchFilters(filters=\"acl_in\",\n",
    "                           action=\"permit\",\n",
    "                           explain=True).answer()\n",
    "show(answer.frame())"
   ]
  },
  {
   "cell_type": "code",
   "execution_count": 47,
   "metadata": {},
   "outputs": [
    {
     "name": "stdout",
     "output_type": "stream",
     "text": [
      "Including dstIps: 0.0.0.0/0, icmpTypes: 0, ipProtocols: ICMP, srcIps: 0.0.0.0/0\n",
      "Excluding dstIps: 0.0.0.0/0, srcIps: 2.80.3.219\n",
      "Excluding dstIps: 0.0.0.0/0, srcIps: 8.89.120.0/22\n",
      "Excluding dstIps: 0.0.0.0/0, srcIps: 10.64.90.249\n",
      "Excluding dstIps: 0.0.0.0/0, srcIps: 11.36.192.0/19\n",
      "Excluding dstIps: 0.0.0.0/0, srcIps: 11.125.64.0/19\n",
      "Excluding dstIps: 0.0.0.0/0, srcIps: 27.212.145.150\n",
      "Excluding dstIps: 0.0.0.0/0, srcIps: 28.69.250.136\n",
      "Excluding dstIps: 0.0.0.0/0, srcIps: 29.228.179.210\n",
      "Excluding dstIps: 0.0.0.0/0, srcIps: 54.0.0.0/8\n",
      "Excluding dstIps: 0.0.0.0/0, srcIps: 118.0.0.0/8\n",
      "Excluding dstIps: 0.0.0.0/0, srcIps: 131.159.53.215\n",
      "Excluding dstIps: 0.0.0.0/0, srcIps: 144.49.45.40\n",
      "Excluding dstIps: 0.0.0.0/0, srcIps: 163.157.0.0/16\n",
      "Excluding dstIps: 0.0.0.0/0, srcIps: 163.255.18.63\n",
      "Excluding dstIps: 0.0.0.0/0, srcIps: 166.144.0.0/12\n",
      "Excluding dstIps: 0.0.0.0/0, srcIps: 194.181.135.214\n",
      "Excluding dstIps: 0.0.0.0/0, srcIps: 196.64.84.239\n",
      "Excluding dstIps: 0.0.0.0/0, srcIps: 198.120.0.0/16\n",
      "Excluding dstIps: 0.0.0.0/0, srcIps: 198.170.50.0/24\n",
      "Excluding dstIps: 0.0.0.0/0, srcIps: 200.45.87.238\n",
      "Excluding dstIps: 0.0.0.0/0, srcIps: 202.45.130.141\n",
      "Excluding dstIps: 0.0.0.0/0, srcIps: 207.70.46.217\n",
      "Excluding dstIps: 0.0.0.0/0, srcIps: 212.26.132.18\n",
      "Excluding dstIps: 0.0.0.0/0, srcIps: 214.220.213.107\n",
      "Excluding dstIps: 0.0.0.0/0, srcIps: 218.8.104.0/25\n",
      "Excluding dstIps: 0.0.0.0/0, srcIps: 218.8.106.128/25\n",
      "Excluding dstIps: 0.0.0.0/0, srcIps: 218.8.107.0/25\n",
      "Excluding dstIps: 0.0.0.0/0, srcIps: 218.66.51.0/24\n",
      "Excluding dstIps: 0.0.0.0/0, srcIps: 218.66.57.0/24\n",
      "Excluding dstIps: 0.0.0.0/0, srcIps: 218.67.46.0/23\n",
      "Excluding dstIps: 0.0.0.0/0, srcIps: 218.67.96.0/22\n",
      "Excluding dstIps: 0.0.0.0/0, srcIps: 218.67.213.0/24\n",
      "Excluding dstIps: 0.0.0.0/0, srcIps: 218.111.16.132\n",
      "Excluding dstIps: 0.0.0.0/0, srcIps: 218.246.165.90\n",
      "Excluding dstIps: 0.0.0.0/0, srcIps: 219.185.241.117\n",
      "Excluding dstIps: 0.0.0.0/0, srcIps: 224.0.0.0/3\n",
      "Excluding dstIps: 11.125.89.32/30, srcIps: 0.0.0.0/0\n",
      "Excluding dstIps: 11.125.89.180/30, srcIps: 0.0.0.0/0\n",
      "Excluding dstIps: 11.125.89.220/30, srcIps: 0.0.0.0/0\n",
      "Excluding dstIps: 11.125.89.232/30, srcIps: 0.0.0.0/0\n",
      "\n",
      "Including dstIps: 0.0.0.0/0, icmpCodes: 0, icmpTypes: 11, ipProtocols: ICMP, srcIps: 0.0.0.0/0\n",
      "Excluding dstIps: 0.0.0.0/0, srcIps: 2.80.3.219\n",
      "Excluding dstIps: 0.0.0.0/0, srcIps: 8.89.120.0/22\n",
      "Excluding dstIps: 0.0.0.0/0, srcIps: 10.64.90.249\n",
      "Excluding dstIps: 0.0.0.0/0, srcIps: 11.36.192.0/19\n",
      "Excluding dstIps: 0.0.0.0/0, srcIps: 11.125.64.0/19\n",
      "Excluding dstIps: 0.0.0.0/0, srcIps: 27.212.145.150\n",
      "Excluding dstIps: 0.0.0.0/0, srcIps: 28.69.250.136\n",
      "Excluding dstIps: 0.0.0.0/0, srcIps: 29.228.179.210\n",
      "Excluding dstIps: 0.0.0.0/0, srcIps: 54.0.0.0/8\n",
      "Excluding dstIps: 0.0.0.0/0, srcIps: 118.0.0.0/8\n",
      "Excluding dstIps: 0.0.0.0/0, srcIps: 131.159.53.215\n",
      "Excluding dstIps: 0.0.0.0/0, srcIps: 144.49.45.40\n",
      "Excluding dstIps: 0.0.0.0/0, srcIps: 163.157.0.0/16\n",
      "Excluding dstIps: 0.0.0.0/0, srcIps: 163.255.18.63\n",
      "Excluding dstIps: 0.0.0.0/0, srcIps: 166.144.0.0/12\n",
      "Excluding dstIps: 0.0.0.0/0, srcIps: 194.181.135.214\n",
      "Excluding dstIps: 0.0.0.0/0, srcIps: 196.64.84.239\n",
      "Excluding dstIps: 0.0.0.0/0, srcIps: 198.120.0.0/16\n",
      "Excluding dstIps: 0.0.0.0/0, srcIps: 198.170.50.0/24\n",
      "Excluding dstIps: 0.0.0.0/0, srcIps: 200.45.87.238\n",
      "Excluding dstIps: 0.0.0.0/0, srcIps: 202.45.130.141\n",
      "Excluding dstIps: 0.0.0.0/0, srcIps: 207.70.46.217\n",
      "Excluding dstIps: 0.0.0.0/0, srcIps: 212.26.132.18\n",
      "Excluding dstIps: 0.0.0.0/0, srcIps: 214.220.213.107\n",
      "Excluding dstIps: 0.0.0.0/0, srcIps: 218.8.104.0/25\n",
      "Excluding dstIps: 0.0.0.0/0, srcIps: 218.8.106.128/25\n",
      "Excluding dstIps: 0.0.0.0/0, srcIps: 218.8.107.0/25\n",
      "Excluding dstIps: 0.0.0.0/0, srcIps: 218.66.51.0/24\n",
      "Excluding dstIps: 0.0.0.0/0, srcIps: 218.66.57.0/24\n",
      "Excluding dstIps: 0.0.0.0/0, srcIps: 218.67.46.0/23\n",
      "Excluding dstIps: 0.0.0.0/0, srcIps: 218.67.96.0/22\n",
      "Excluding dstIps: 0.0.0.0/0, srcIps: 218.67.213.0/24\n",
      "Excluding dstIps: 0.0.0.0/0, srcIps: 218.111.16.132\n",
      "Excluding dstIps: 0.0.0.0/0, srcIps: 218.246.165.90\n",
      "Excluding dstIps: 0.0.0.0/0, srcIps: 219.185.241.117\n",
      "Excluding dstIps: 0.0.0.0/0, srcIps: 224.0.0.0/3\n",
      "Excluding dstIps: 11.125.89.32/30, srcIps: 0.0.0.0/0\n",
      "Excluding dstIps: 11.125.89.180/30, srcIps: 0.0.0.0/0\n",
      "Excluding dstIps: 11.125.89.220/30, srcIps: 0.0.0.0/0\n",
      "Excluding dstIps: 11.125.89.232/30, srcIps: 0.0.0.0/0\n",
      "\n",
      "Including dstIps: 218.8.104.58, dstPorts: 53, ipProtocols: UDP, srcIps: 10.10.10.0/24\n",
      "Excluding dstIps: 218.8.104.58, dstPorts: 53, ipProtocols: UDP, srcIps: 10.10.10.42\n",
      "\n",
      "Including dstIps: 218.8.104.63, dstPorts: 179, ipProtocols: TCP, srcIps: 218.8.104.62\n",
      "\n",
      "Including dstIps: 218.8.104.63, icmpTypes: 0, ipProtocols: ICMP, srcIps: 218.8.104.62\n",
      "\n",
      "Including dstIps: 218.8.104.58, dstPorts: 179, ipProtocols: TCP, srcIps: 218.8.104.59\n",
      "\n",
      "Including dstIps: 218.8.104.58, icmpTypes: 0, ipProtocols: ICMP, srcIps: 218.8.104.59\n",
      "\n",
      "Including dstIps: 218.8.104.15, dstPorts: 179, ipProtocols: TCP, srcIps: 218.8.104.14\n",
      "\n",
      "Including dstIps: 218.8.104.15, icmpTypes: 0, ipProtocols: ICMP, srcIps: 218.8.104.14\n",
      "\n",
      "Including dstIps: 218.8.104.1, dstPorts: 179, ipProtocols: TCP, srcIps: 218.8.104.0\n",
      "\n",
      "Including dstIps: 218.8.104.1, icmpTypes: 0, ipProtocols: ICMP, srcIps: 218.8.104.0\n",
      "\n",
      "Including dstIps: 212.58.171.208, dstPorts: 179, ipProtocols: TCP, srcIps: 212.58.171.208\n",
      "\n",
      "Including dstIps: 205.248.59.67, dstPorts: 179, ipProtocols: TCP, srcIps: 205.248.59.64\n",
      "\n",
      "Including dstIps: 205.248.58.188, dstPorts: 179, ipProtocols: TCP, srcIps: 205.248.58.190\n",
      "\n",
      "Including dstIps: 205.248.57.173, dstPorts: 179, ipProtocols: TCP, srcIps: 205.248.57.174\n",
      "\n",
      "Including dstIps: 204.150.33.83, dstPorts: 179, ipProtocols: TCP, srcIps: 204.150.33.175\n",
      "\n",
      "Including dstIps: 117.186.185.0/24, dstPorts: 3785, ipProtocols: UDP, srcIps: 117.186.185.0/24, srcPorts: 49152 to 65535\n",
      "\n",
      "Including dstIps: 117.186.185.0/24, dstPorts: 3784, ipProtocols: UDP, srcIps: 117.186.185.0/24, srcPorts: 49152 to 65535\n",
      "\n",
      "Including dstIps: 112.104.108.154, dstPorts: 179, ipProtocols: TCP, srcIps: 112.104.108.152\n",
      "\n",
      "Including dstIps: 11.36.216.179, dstPorts: 179, ipProtocols: TCP, srcIps: 11.36.216.176\n",
      "\n",
      "Including dstIps: 11.36.216.169, dstPorts: 179, ipProtocols: TCP, srcIps: 11.36.216.170\n",
      "\n",
      "Including dstIps: 11.36.202.141, dstPorts: 179, ipProtocols: TCP, srcIps: 11.36.202.142\n",
      "\n",
      "Including dstIps: 11.36.202.139, dstPorts: 179, ipProtocols: TCP, srcIps: 11.36.202.137\n",
      "\n",
      "Including dstIps: 2.73.168.208, dstPorts: 179, ipProtocols: TCP, srcIps: 2.73.168.211\n"
     ]
    }
   ],
   "source": [
    "from headerspace_explanation import formatHeaderSpaceExplanation\n",
    "explanation_json = answer.frame()['Header_Space'][0]\n",
    "print(formatHeaderSpaceExplanation(explanation_json))"
   ]
  },
  {
   "cell_type": "code",
   "execution_count": 49,
   "metadata": {},
   "outputs": [],
   "source": [
    "explanation_json = \"\"\"\n",
    "{\n",
    "  \"class\" : \"org.batfish.datamodel.acl.AndMatchExpr\",\n",
    "  \"conjuncts\" : [\n",
    "    {\n",
    "      \"class\" : \"org.batfish.datamodel.acl.MatchHeaderSpace\",\n",
    "      \"headerSpace\" : {\n",
    "        \"dstIps\" : {\n",
    "          \"class\" : \"org.batfish.datamodel.IpWildcardSetIpSpace\",\n",
    "          \"blacklist\" : [\n",
    "            \"2.128.0.1\"\n",
    "          ],\n",
    "          \"whitelist\" : [\n",
    "            \"2.128.0.0/24\"\n",
    "          ]\n",
    "        },\n",
    "        \"negate\" : false\n",
    "      }\n",
    "    },\n",
    "    {\n",
    "      \"class\" : \"org.batfish.datamodel.acl.NotMatchExpr\",\n",
    "      \"operand\" : {\n",
    "        \"class\" : \"org.batfish.datamodel.acl.MatchHeaderSpace\",\n",
    "        \"headerSpace\" : {\n",
    "          \"dstPorts\" : [\n",
    "            \"22-22\"\n",
    "          ],\n",
    "          \"ipProtocols\" : [\n",
    "            \"TCP\"\n",
    "          ],\n",
    "          \"negate\" : false\n",
    "        }\n",
    "      }\n",
    "    },\n",
    "    {\n",
    "      \"class\" : \"org.batfish.datamodel.acl.NotMatchExpr\",\n",
    "      \"operand\" : {\n",
    "        \"class\" : \"org.batfish.datamodel.acl.MatchHeaderSpace\",\n",
    "        \"headerSpace\" : {\n",
    "          \"dstPorts\" : [\n",
    "            \"53-53\"\n",
    "          ],\n",
    "          \"ipProtocols\" : [\n",
    "            \"UDP\"\n",
    "          ],\n",
    "          \"negate\" : false\n",
    "        }\n",
    "      }\n",
    "    },\n",
    "    {\n",
    "      \"class\" : \"org.batfish.datamodel.acl.NotMatchExpr\",\n",
    "      \"operand\" : {\n",
    "        \"class\" : \"org.batfish.datamodel.acl.MatchHeaderSpace\",\n",
    "        \"headerSpace\" : {\n",
    "          \"dstIps\" : {\n",
    "            \"class\" : \"org.batfish.datamodel.IpWildcardIpSpace\",\n",
    "            \"ipWildcard\" : \"0.0.0.0/0\"\n",
    "          },\n",
    "          \"negate\" : false,\n",
    "          \"srcIps\" : {\n",
    "            \"class\" : \"org.batfish.datamodel.IpWildcardIpSpace\",\n",
    "            \"ipWildcard\" : \"2.0.0.0/8\"\n",
    "          }\n",
    "        }\n",
    "      }\n",
    "    }\n",
    "  ]\n",
    "}\n",
    "\"\"\""
   ]
  },
  {
   "cell_type": "code",
   "execution_count": 50,
   "metadata": {},
   "outputs": [
    {
     "name": "stdout",
     "output_type": "stream",
     "text": [
      "Including dstIps: 2.128.0.0/24\n",
      "Excluding dstPorts: 22, ipProtocols: TCP\n",
      "Excluding dstPorts: 53, ipProtocols: UDP\n",
      "Excluding dstIps: 0.0.0.0/0, srcIps: 2.0.0.0/8\n"
     ]
    }
   ],
   "source": [
    "print(formatHeaderSpaceExplanation(explanation_json))"
   ]
  },
  {
   "cell_type": "markdown",
   "metadata": {
    "slideshow": {
     "slide_type": "notes"
    }
   },
   "source": [
    "As we can see, we did get a flow that matches the search condition and thus violates our desired guarantee of the entire subnet being able to reach the DNS server. The columns carry the same information as those for `testFilters` and provide insight into the violation. In particular, we see that a flow with source IP 10.10.10.42 is denied by an earlier line in the ACL. Such needles in the haystack are impossible to find with tools like pen testing. "
   ]
  },
  {
   "cell_type": "markdown",
   "metadata": {
    "slideshow": {
     "slide_type": "slide"
    }
   },
   "source": [
    "### Example 2: Verify that the *only* TCP traffic that can go from one zone to another is NFS traffic "
   ]
  },
  {
   "cell_type": "markdown",
   "metadata": {
    "slideshow": {
     "slide_type": "notes"
    }
   },
   "source": [
    "In the second example for `testFilters` we used an example flow to test if **firewall** denied HTTP flows from one zone to another. Now, suppose that we wanted a stricter condition—that only TCP-based NFS flows are allowed from one zone to another. With `searchFilters` we can verify this condition by searching for violations in the large space of non-NFS flows, as below."
   ]
  },
  {
   "cell_type": "code",
   "execution_count": 5,
   "metadata": {
    "slideshow": {
     "slide_type": "fragment"
    }
   },
   "outputs": [
    {
     "data": {
      "text/html": [
       "<div>\n",
       "<style scoped>\n",
       "    .dataframe tbody tr th:only-of-type {\n",
       "        vertical-align: middle;\n",
       "    }\n",
       "\n",
       "    .dataframe tbody tr th {\n",
       "        vertical-align: top;\n",
       "    }\n",
       "\n",
       "    .dataframe thead th {\n",
       "        text-align: right;\n",
       "    }\n",
       "</style>\n",
       "<table border=\"1\" class=\"dataframe\">\n",
       "  <thead>\n",
       "    <tr style=\"text-align: right;\">\n",
       "      <th></th>\n",
       "      <th>Node</th>\n",
       "      <th>Filter_Name</th>\n",
       "      <th>Flow</th>\n",
       "      <th>Action</th>\n",
       "      <th>Line_Content</th>\n",
       "      <th>Trace</th>\n",
       "    </tr>\n",
       "  </thead>\n",
       "  <tbody>\n",
       "  </tbody>\n",
       "</table>\n",
       "</div>"
      ],
      "text/plain": [
       "Empty DataFrame\n",
       "Columns: [Node, Filter_Name, Flow, Action, Line_Content, Trace]\n",
       "Index: []"
      ]
     },
     "metadata": {},
     "output_type": "display_data"
    }
   ],
   "source": [
    "# Check if any non-NFS, TCP flow can go from one zone to another\n",
    "non_nsf_tcp_traffic = HeaderConstraints(srcIps=\"10.114.64.0/24\",\n",
    "                                        dstIps=\"10.114.60.0/24\",\n",
    "                                        ipProtocols=[\"tcp\"],\n",
    "                                        dstPorts=[\"0-2048\", \"2050-65356\"])  # exclude NFS port (2049)\n",
    "answer = bfq.searchFilters(headers=non_nsf_tcp_traffic,\n",
    "                           startLocation=\"enter(firewall[GigabitEthernet0/0/2])\",\n",
    "                           filters=\"outFilterOf(GigabitEthernet0/0/3)\",\n",
    "                           action=\"permit\").answer()\n",
    "show(answer.frame())"
   ]
  },
  {
   "cell_type": "markdown",
   "metadata": {
    "slideshow": {
     "slide_type": "notes"
    }
   },
   "source": [
    "Since we got back an empty answer, we can be certain that no non-NFS flow can go from one zone to another. \n",
    "\n",
    "*Such strong guarantees are impossible with any other tool today.*"
   ]
  },
  {
   "cell_type": "markdown",
   "metadata": {
    "slideshow": {
     "slide_type": "slide"
    }
   },
   "source": [
    "## `filterLineReachability`: Analyzing reachability of filter lines "
   ]
  },
  {
   "cell_type": "markdown",
   "metadata": {
    "slideshow": {
     "slide_type": "notes"
    }
   },
   "source": [
    "When debugging or editing filters, it can be useful to confirm that every line is reachable—that is, each line can match some packets that do not match earlier lines. Unreachable filter lines are often symptomatic of bugs and past edits that did not achieve policy intent. Even when they do not represent bugs, they represent opportunities to reduce the length of the filter. \n",
    "\n",
    "The `filterLineReachability` question identifies unreachable filter lines. Given no parameters, it will check every filter in the network, but its scope can be narrowed  using `filters` and `nodes` parameters (see [documentation](https://pybatfish.readthedocs.io/en/latest/questions.html#pybatfish.question.bfq.aclReachability))."
   ]
  },
  {
   "cell_type": "code",
   "execution_count": 6,
   "metadata": {
    "scrolled": false,
    "slideshow": {
     "slide_type": "fragment"
    }
   },
   "outputs": [
    {
     "data": {
      "text/html": [
       "<style  type=\"text/css\" >\n",
       "    #T_pybfstylerow0_col0 {\n",
       "            text-align:  left;\n",
       "            vertical-align:  top;\n",
       "        }    #T_pybfstylerow0_col1 {\n",
       "            text-align:  left;\n",
       "            vertical-align:  top;\n",
       "        }    #T_pybfstylerow0_col2 {\n",
       "            text-align:  left;\n",
       "            vertical-align:  top;\n",
       "        }    #T_pybfstylerow0_col3 {\n",
       "            text-align:  left;\n",
       "            vertical-align:  top;\n",
       "        }    #T_pybfstylerow0_col4 {\n",
       "            text-align:  left;\n",
       "            vertical-align:  top;\n",
       "        }    #T_pybfstylerow0_col5 {\n",
       "            text-align:  left;\n",
       "            vertical-align:  top;\n",
       "        }    #T_pybfstylerow0_col6 {\n",
       "            text-align:  left;\n",
       "            vertical-align:  top;\n",
       "        }    #T_pybfstylerow1_col0 {\n",
       "            text-align:  left;\n",
       "            vertical-align:  top;\n",
       "        }    #T_pybfstylerow1_col1 {\n",
       "            text-align:  left;\n",
       "            vertical-align:  top;\n",
       "        }    #T_pybfstylerow1_col2 {\n",
       "            text-align:  left;\n",
       "            vertical-align:  top;\n",
       "        }    #T_pybfstylerow1_col3 {\n",
       "            text-align:  left;\n",
       "            vertical-align:  top;\n",
       "        }    #T_pybfstylerow1_col4 {\n",
       "            text-align:  left;\n",
       "            vertical-align:  top;\n",
       "        }    #T_pybfstylerow1_col5 {\n",
       "            text-align:  left;\n",
       "            vertical-align:  top;\n",
       "        }    #T_pybfstylerow1_col6 {\n",
       "            text-align:  left;\n",
       "            vertical-align:  top;\n",
       "        }</style>  \n",
       "<table id=\"T_pybfstyle\" > \n",
       "<thead>    <tr> \n",
       "        <th class=\"blank level0\" ></th> \n",
       "        <th class=\"col_heading level0 col0\" >Sources</th> \n",
       "        <th class=\"col_heading level0 col1\" >Unreachable_Line</th> \n",
       "        <th class=\"col_heading level0 col2\" >Unreachable_Line_Action</th> \n",
       "        <th class=\"col_heading level0 col3\" >Blocking_Lines</th> \n",
       "        <th class=\"col_heading level0 col4\" >Different_Action</th> \n",
       "        <th class=\"col_heading level0 col5\" >Reason</th> \n",
       "        <th class=\"col_heading level0 col6\" >Additional_Info</th> \n",
       "    </tr></thead> \n",
       "<tbody>    <tr> \n",
       "        <th id=\"T_pybfstylelevel0_row0\" class=\"row_heading level0 row0\" >0</th> \n",
       "        <td id=\"T_pybfstylerow0_col0\" class=\"data row0 col0\" >&#x27;rtr-with-acl: acl_in&#x27;</td> \n",
       "        <td id=\"T_pybfstylerow0_col1\" class=\"data row0 col1\" >&#x27;670 permit ip 166.146.58.184 any&#x27;</td> \n",
       "        <td id=\"T_pybfstylerow0_col2\" class=\"data row0 col2\" >&#x27;PERMIT&#x27;</td> \n",
       "        <td id=\"T_pybfstylerow0_col3\" class=\"data row0 col3\" >&#x27;540 deny ip 166.146.58.184/12 any&#x27;</td> \n",
       "        <td id=\"T_pybfstylerow0_col4\" class=\"data row0 col4\" >True</td> \n",
       "        <td id=\"T_pybfstylerow0_col5\" class=\"data row0 col5\" >&#x27;BLOCKING_LINES&#x27;</td> \n",
       "        <td id=\"T_pybfstylerow0_col6\" class=\"data row0 col6\" >None</td> \n",
       "    </tr>    <tr> \n",
       "        <th id=\"T_pybfstylelevel0_row1\" class=\"row_heading level0 row1\" >1</th> \n",
       "        <td id=\"T_pybfstylerow1_col0\" class=\"data row1 col0\" >&#x27;rtr-with-acl: acl_in&#x27;</td> \n",
       "        <td id=\"T_pybfstylerow1_col1\" class=\"data row1 col1\" >&#x27;790 deny ip 54.203.159.1/32 any&#x27;</td> \n",
       "        <td id=\"T_pybfstylerow1_col2\" class=\"data row1 col2\" >&#x27;DENY&#x27;</td> \n",
       "        <td id=\"T_pybfstylerow1_col3\" class=\"data row1 col3\" >&#x27;500 deny ip 54.203.159.13/8 any&#x27;</td> \n",
       "        <td id=\"T_pybfstylerow1_col4\" class=\"data row1 col4\" >False</td> \n",
       "        <td id=\"T_pybfstylerow1_col5\" class=\"data row1 col5\" >&#x27;BLOCKING_LINES&#x27;</td> \n",
       "        <td id=\"T_pybfstylerow1_col6\" class=\"data row1 col6\" >None</td> \n",
       "    </tr></tbody> \n",
       "</table> "
      ],
      "text/plain": [
       "                    Sources                  Unreachable_Line  \\\n",
       "0  ['rtr-with-acl: acl_in']  670 permit ip 166.146.58.184 any   \n",
       "1  ['rtr-with-acl: acl_in']  790 deny ip 54.203.159.1/32 any    \n",
       "\n",
       "  Unreachable_Line_Action                         Blocking_Lines  \\\n",
       "0  PERMIT                  ['540 deny ip 166.146.58.184/12 any']   \n",
       "1  DENY                    ['500 deny ip 54.203.159.13/8 any']     \n",
       "\n",
       "   Different_Action          Reason Additional_Info  \n",
       "0  True              BLOCKING_LINES  None            \n",
       "1  False             BLOCKING_LINES  None            "
      ]
     },
     "metadata": {},
     "output_type": "display_data"
    }
   ],
   "source": [
    "# Find unreachable lines in filters of rtr-with-acl\n",
    "aclAns = bfq.filterLineReachability(nodes=\"rtr-with-acl\").answer()\n",
    "show(aclAns.frame())"
   ]
  },
  {
   "cell_type": "markdown",
   "metadata": {
    "slideshow": {
     "slide_type": "notes"
    }
   },
   "source": [
    "Each line in the answer above identifies an unreachable line in a filter. Let's take a closer look at the first one. It shows that the line `670 permit ip 166.146.58.184 any` is unreachable because it is blocked by the line `540` shown in the `Blocking_Lines` column. The `Different_Action` column indicates that the blocking line `540` has the opposite action as the blocked line `670`, a more worrisome situation than if actions were the same.\n",
    "\n",
    "The `Reason` column shows that the line is unreachable because of it has other lines that block it, Lines can also be independently unreachable (i.e., no packet will ever match it) or may be unreachable because of circular references. The `filterLineReachability` question identifies such cases as well, and provides more information about them in the `Additional_Info` column."
   ]
  },
  {
   "cell_type": "markdown",
   "metadata": {
    "slideshow": {
     "slide_type": "slide"
    }
   },
   "source": [
    "## Summary\n",
    "\n",
    "In this notebook, we showed how you can use Batfish to: \n",
    "  1. Test how filters in the network treat a flow (`testFilters`)\n",
    "  2. Verify how filters treat a large space of flows (`searchFilters`)\n",
    "  3. Find filter lines that will never match any packet (`filterLineReachability`)"
   ]
  },
  {
   "cell_type": "markdown",
   "metadata": {
    "slideshow": {
     "slide_type": "fragment"
    }
   },
   "source": [
    "If you found these capabilities useful, check out our [\"Provably Safe ACL and Firewall Changes\" notebook](Provably%20Safe%20ACL%20and%20Firewall%20Changes.ipynb) that shows how to change filters in a *provably* safe manner."
   ]
  },
  {
   "cell_type": "markdown",
   "metadata": {
    "slideshow": {
     "slide_type": "slide"
    }
   },
   "source": [
    "***\n",
    "### Get involved with the Batfish community\n",
    "\n",
    "Join our community on [Slack](https://join.slack.com/t/batfish-org/shared_invite/enQtMzA0Nzg2OTAzNzQ1LTUxOTJlY2YyNTVlNGQ3MTJkOTIwZTU2YjY3YzRjZWFiYzE4ODE5ODZiNjA4NGI5NTJhZmU2ZTllOTMwZDhjMzA) and [GitHub](https://github.com/batfish/batfish). "
   ]
  }
 ],
 "metadata": {
  "kernelspec": {
   "display_name": "Python 3",
   "language": "python",
   "name": "python3"
  },
  "language_info": {
   "codemirror_mode": {
    "name": "ipython",
    "version": 3
   },
   "file_extension": ".py",
   "mimetype": "text/x-python",
   "name": "python",
   "nbconvert_exporter": "python",
   "pygments_lexer": "ipython3",
   "version": "3.6.4"
  }
 },
 "nbformat": 4,
 "nbformat_minor": 2
}
